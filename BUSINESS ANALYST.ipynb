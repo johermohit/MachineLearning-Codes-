{
 "cells": [
  {
   "cell_type": "markdown",
   "metadata": {},
   "source": [
    "Suppose you are a Business Analyst in an organization who is looking after day to day operations of a company. You recorded data about following characteristics(features) of a company of past 10 years.\n",
    "\n",
    "Losses found every day, Profits ocurred every day.\n",
    "Production in units per day, Units defected per day\n",
    "Employees Salary\n",
    "Increment rate , Investment in New Technology in Rupees. \n",
    "\n",
    "Now being a busiess analyst you have to determine which factor(s) are responsible for production of units/day , Profits occured/day."
   ]
  },
  {
   "cell_type": "code",
   "execution_count": 85,
   "metadata": {
    "collapsed": true
   },
   "outputs": [],
   "source": [
    "import numpy as np \n",
    "import scipy\n",
    "import matplotlib.pyplot as plt"
   ]
  },
  {
   "cell_type": "code",
   "execution_count": 86,
   "metadata": {
    "collapsed": true
   },
   "outputs": [],
   "source": [
    "losses = np.random.randint(low = 100 , high = 1000 , size = 3650)\n",
    "\n",
    "profits = np.random.randint(low = 1000 , high = 10000 , size = 3650)\n",
    "\n",
    "prod_units = np.random.poisson(lam = 100 ,  size = 3650)\n",
    "\n",
    "units_defected = np.random.poisson(lam = 20 , size = 3650)\n",
    "\n",
    "salary_rate = np.random.uniform(low = 7, high = 15, size = 3650)\n",
    "\n",
    "technology_invest = np.random.exponential(scale = 1000 , size = 3650)\n",
    "\n",
    "power_cut = np.random.binomial(n = 1 , p = 0.5 , size = 3650)"
   ]
  },
  {
   "cell_type": "code",
   "execution_count": 87,
   "metadata": {
    "collapsed": false
   },
   "outputs": [
    {
     "name": "stdout",
     "output_type": "stream",
     "text": [
      "(6, 3650)\n"
     ]
    }
   ],
   "source": [
    "rect_matt = np.column_stack((profits, prod_units , units_defected , salary_rate , technology_invest , power_cut))\n",
    "rect_matt = rect_matt.T\n",
    "print(rect_matt.shape)"
   ]
  },
  {
   "cell_type": "code",
   "execution_count": 88,
   "metadata": {
    "collapsed": false
   },
   "outputs": [
    {
     "name": "stdout",
     "output_type": "stream",
     "text": [
      "[(0.0120829307121981, 0.46553100676919557), (1.0, 0.0), (-0.005197093286241246, 0.7536135789337182), (0.018505561183998355, 0.2636821145433322), (-0.013953111607341449, 0.3993779384885382), (0.006000970061790219, 0.7170314206171651)]\n"
     ]
    }
   ],
   "source": [
    "#loss_corelate = np.corrcoef(losses, prod_units)\n",
    "rp_value_prod_units = []\n",
    "for i in range(0 , len(rect_matt)):\n",
    "    \n",
    "    rp_value_prod_units.append(scipy.stats.pearsonr(rect_matt[i] , prod_units))\n",
    "    \n",
    "print(rp_value_prod_units)"
   ]
  },
  {
   "cell_type": "code",
   "execution_count": 89,
   "metadata": {
    "collapsed": false
   },
   "outputs": [
    {
     "name": "stdout",
     "output_type": "stream",
     "text": [
      "Statistically Significant - pvalue 0.7536135789337182\n",
      "Statistically Significant - pvalue 0.7170314206171651\n",
      "[0.7536135789337182, 0.7170314206171651]\n"
     ]
    }
   ],
   "source": [
    "pr_value_prod_units = []\n",
    "for i in range(0 , len(rp)):\n",
    "    \n",
    "    if rp_value_prod_units[i][1] > 0.5 and rp_value_prod_units[i][1] < 0.8:\n",
    "        \n",
    "        pr_value_prod_units.append(rp_value_prod_units[i][1])\n",
    "        \n",
    "        print(\"Statistically Significant - pvalue \", end = \"\")\n",
    "        \n",
    "        print(rp_value_prod_units[i][1])\n",
    "        \n",
    "print(pr_value_prod_units)"
   ]
  },
  {
   "cell_type": "code",
   "execution_count": 90,
   "metadata": {
    "collapsed": false
   },
   "outputs": [
    {
     "name": "stdout",
     "output_type": "stream",
     "text": [
      "[(1.0, 0.0), (0.0120829307121981, 0.46553100676919557), (-0.011071526167723554, 0.5036995111215459), (-0.002830633276815721, 0.864259049473367), (0.022638797324284355, 0.17148902677610486), (0.008749207326805676, 0.5972117216785218)]\n"
     ]
    }
   ],
   "source": [
    "rpr_value_prod_units = []\n",
    "for i in range(0 , len(rect_matt)):\n",
    "    \n",
    "    rpr_value_prod_units.append(scipy.stats.pearsonr(rect_matt[i] , profits))\n",
    "    \n",
    "print(rpr_value_prod_units)"
   ]
  },
  {
   "cell_type": "code",
   "execution_count": 91,
   "metadata": {
    "collapsed": false
   },
   "outputs": [
    {
     "name": "stdout",
     "output_type": "stream",
     "text": [
      "Statistically Significant - pvalue 0.5036995111215459\n",
      "Statistically Significant - pvalue 0.5972117216785218\n",
      "[0.5036995111215459, 0.5972117216785218]\n"
     ]
    }
   ],
   "source": [
    "prr_value_prod_units = []\n",
    "for i in range(0 , len(rpr_value_prod_units)):\n",
    "    \n",
    "    if rpr_value_prod_units[i][1] > 0.5 and rpr_value_prod_units[i][1] < 0.8:\n",
    "        \n",
    "        prr_value_prod_units.append(rpr_value_prod_units[i][1])\n",
    "        \n",
    "        print(\"Statistically Significant - pvalue \", end = \"\")\n",
    "        \n",
    "        print(rpr_value_prod_units[i][1])\n",
    "        \n",
    "print(prr_value_prod_units)"
   ]
  },
  {
   "cell_type": "code",
   "execution_count": null,
   "metadata": {
    "collapsed": true
   },
   "outputs": [],
   "source": []
  }
 ],
 "metadata": {
  "kernelspec": {
   "display_name": "Python [default]",
   "language": "python",
   "name": "python3"
  },
  "language_info": {
   "codemirror_mode": {
    "name": "ipython",
    "version": 3
   },
   "file_extension": ".py",
   "mimetype": "text/x-python",
   "name": "python",
   "nbconvert_exporter": "python",
   "pygments_lexer": "ipython3",
   "version": "3.5.2"
  }
 },
 "nbformat": 4,
 "nbformat_minor": 2
}
