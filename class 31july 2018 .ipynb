{
 "cells": [
  {
   "cell_type": "markdown",
   "metadata": {
    "collapsed": true
   },
   "source": [
    "# import Libraris`"
   ]
  },
  {
   "cell_type": "code",
   "execution_count": 23,
   "metadata": {
    "collapsed": true
   },
   "outputs": [],
   "source": [
    "import numpy as np\n",
    "import math \n",
    "import random\n",
    "from scipy.stats import itemfreq\n",
    "import matplotlib.pyplot as plt"
   ]
  },
  {
   "cell_type": "markdown",
   "metadata": {},
   "source": [
    "# "
   ]
  },
  {
   "cell_type": "code",
   "execution_count": 87,
   "metadata": {
    "collapsed": true
   },
   "outputs": [],
   "source": [
    "\n",
    "N=30\n",
    "P=.3\n",
    "SampleSize=1000\n"
   ]
  },
  {
   "cell_type": "code",
   "execution_count": 3,
   "metadata": {
    "collapsed": false
   },
   "outputs": [],
   "source": [
    "def factorial(n):\n",
    "    j=1\n",
    "    for i in range(1,n+1):\n",
    "        j=j*i\n",
    "    return(j)"
   ]
  },
  {
   "cell_type": "code",
   "execution_count": 4,
   "metadata": {
    "collapsed": false
   },
   "outputs": [
    {
     "data": {
      "text/plain": [
       "5040"
      ]
     },
     "execution_count": 4,
     "metadata": {},
     "output_type": "execute_result"
    }
   ],
   "source": [
    "factorial(7)"
   ]
  },
  {
   "cell_type": "code",
   "execution_count": 5,
   "metadata": {
    "collapsed": true
   },
   "outputs": [],
   "source": [
    "def combo(n,r):\n",
    "    c=(factorial(n))/((factorial(r))*(factorial(n-r)))\n",
    "    return(c)"
   ]
  },
  {
   "cell_type": "code",
   "execution_count": 6,
   "metadata": {
    "collapsed": true
   },
   "outputs": [],
   "source": [
    "def probablity(n,r,p):#binomial Pdf formula\n",
    "    t=n-r\n",
    "    bino=((combo(n,r))*((p)**r)*((1-p)**(t)))\n",
    "    return(bino)\n"
   ]
  },
  {
   "cell_type": "code",
   "execution_count": 7,
   "metadata": {
    "collapsed": false
   },
   "outputs": [
    {
     "data": {
      "text/plain": [
       "0.009001692000000007"
      ]
     },
     "execution_count": 7,
     "metadata": {},
     "output_type": "execute_result"
    }
   ],
   "source": [
    "probablity(10,3,.7)"
   ]
  },
  {
   "cell_type": "code",
   "execution_count": 8,
   "metadata": {
    "collapsed": true
   },
   "outputs": [],
   "source": [
    "# tells us cumulative prob.\n",
    "def Cumilative_Prob_till (y):\n",
    "    net=[]\n",
    "    for i in range(y):\n",
    "        net.append(probablity(N,i,P))\n",
    "        \n",
    "    return (sum(net))"
   ]
  },
  {
   "cell_type": "code",
   "execution_count": 9,
   "metadata": {
    "collapsed": false
   },
   "outputs": [
    {
     "data": {
      "text/plain": [
       "0.02824752489999998"
      ]
     },
     "execution_count": 9,
     "metadata": {},
     "output_type": "execute_result"
    }
   ],
   "source": [
    "Cumilative_Prob_till(1)"
   ]
  },
  {
   "cell_type": "code",
   "execution_count": 10,
   "metadata": {
    "collapsed": true
   },
   "outputs": [],
   "source": [
    "def yrand():\n",
    "    u=random.uniform(0,1)\n",
    "    return(u)"
   ]
  },
  {
   "cell_type": "code",
   "execution_count": null,
   "metadata": {
    "collapsed": false
   },
   "outputs": [],
   "source": []
  },
  {
   "cell_type": "code",
   "execution_count": 144,
   "metadata": {
    "collapsed": false
   },
   "outputs": [
    {
     "ename": "SyntaxError",
     "evalue": "invalid syntax (<ipython-input-144-8c798cc79968>, line 33)",
     "output_type": "error",
     "traceback": [
      "\u001b[0;36m  File \u001b[0;32m\"<ipython-input-144-8c798cc79968>\"\u001b[0;36m, line \u001b[0;32m33\u001b[0m\n\u001b[0;31m    elif:\u001b[0m\n\u001b[0m        ^\u001b[0m\n\u001b[0;31mSyntaxError\u001b[0m\u001b[0;31m:\u001b[0m invalid syntax\n"
     ]
    }
   ],
   "source": [
    "da=[]\n",
    "db=[]\n",
    "for y in range (SampleSize):\n",
    "    b=yrand() #genete Random number\n",
    "    da.append(b) # apend it to a list\n",
    "    \n",
    "    for i in range (0,(N-1)): # \n",
    "        t =Cumilative_Prob_till(i)\n",
    "        #print (\"for value of i ={} ynet is {}\".format(i,t))\n",
    "        if t >= b:\n",
    "            break\n",
    "        \n",
    "    i = i-1\n",
    "    db.append(i)\n",
    "    #print(i)\n",
    "npdb=np.array(db)\n",
    "print(itemfreq(npdb))\n",
    "db.sort()\n",
    "\n",
    "c=set(db)\n",
    "print(c)\n",
    "\n",
    "freq=[]\n",
    "\n",
    "counter=1\n",
    "for i in range((len(db)-1)):\n",
    " \n",
    "    if db[i]==db[i+1]:\n",
    "        counter+=1\n",
    "    elif i==999:\n",
    "        counter+=1\n",
    "        freq.append(counter)\n",
    "    elif:\n",
    "        freq.append(counter)\n",
    "        counter=1\n",
    "\n",
    "print(freq)\n",
    "print(i)\n"
   ]
  },
  {
   "cell_type": "code",
   "execution_count": null,
   "metadata": {
    "collapsed": false
   },
   "outputs": [],
   "source": []
  }
 ],
 "metadata": {
  "anaconda-cloud": {},
  "kernelspec": {
   "display_name": "Python [default]",
   "language": "python",
   "name": "python3"
  },
  "language_info": {
   "codemirror_mode": {
    "name": "ipython",
    "version": 3
   },
   "file_extension": ".py",
   "mimetype": "text/x-python",
   "name": "python",
   "nbconvert_exporter": "python",
   "pygments_lexer": "ipython3",
   "version": "3.5.2"
  }
 },
 "nbformat": 4,
 "nbformat_minor": 1
}
