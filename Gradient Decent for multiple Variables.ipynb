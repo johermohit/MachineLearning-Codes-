{
 "cells": [
  {
   "cell_type": "markdown",
   "metadata": {},
   "source": [
    "# Gradient Decent For (I,J,K,X,Y,Z)"
   ]
  },
  {
   "cell_type": "code",
   "execution_count": 236,
   "metadata": {
    "collapsed": false
   },
   "outputs": [],
   "source": [
    "import numpy as np\n",
    "LR=(10^(-8))\n",
    "Eps=(10^(-3))\n"
   ]
  },
  {
   "cell_type": "code",
   "execution_count": 237,
   "metadata": {
    "collapsed": false
   },
   "outputs": [],
   "source": [
    "\n",
    "OldValue=np.random.randn(6)"
   ]
  },
  {
   "cell_type": "code",
   "execution_count": 283,
   "metadata": {
    "collapsed": false
   },
   "outputs": [
    {
     "data": {
      "text/plain": [
       "array([-0.97520481, -0.15149386,  1.01531369,  0.09210379, -0.16952106,\n",
       "       -0.77289243])"
      ]
     },
     "execution_count": 283,
     "metadata": {},
     "output_type": "execute_result"
    }
   ],
   "source": [
    "OldValue"
   ]
  },
  {
   "cell_type": "code",
   "execution_count": 284,
   "metadata": {
    "collapsed": true
   },
   "outputs": [],
   "source": [
    "# df/Dx @ Xold"
   ]
  },
  {
   "cell_type": "code",
   "execution_count": 264,
   "metadata": {
    "collapsed": false
   },
   "outputs": [],
   "source": [
    "VariableMatrix=np.array([[1,OldValue[0],(OldValue[0])**2],[1,OldValue[1],(OldValue[1])**2],[1,OldValue[2],(OldValue[2])**2],[1,OldValue[3],(OldValue[3])**2],[1,OldValue[4],(OldValue[4])**2],[1,OldValue[5],(OldValue[5])**2]])"
   ]
  },
  {
   "cell_type": "code",
   "execution_count": 296,
   "metadata": {
    "collapsed": false
   },
   "outputs": [
    {
     "data": {
      "text/plain": [
       "array([[ 1.        , -0.97520481,  0.95102443],\n",
       "       [ 1.        , -0.15149386,  0.02295039],\n",
       "       [ 1.        ,  1.01531369,  1.03086189],\n",
       "       [ 1.        ,  0.09210379,  0.00848311],\n",
       "       [ 1.        , -0.16952106,  0.02873739],\n",
       "       [ 1.        , -0.77289243,  0.59736271]])"
      ]
     },
     "execution_count": 296,
     "metadata": {},
     "output_type": "execute_result"
    }
   ],
   "source": [
    "VariableMatrix"
   ]
  },
  {
   "cell_type": "code",
   "execution_count": 299,
   "metadata": {
    "collapsed": true
   },
   "outputs": [],
   "source": [
    "v2=np.sum(VariableMatrix,axis=1)"
   ]
  },
  {
   "cell_type": "code",
   "execution_count": 300,
   "metadata": {
    "collapsed": false
   },
   "outputs": [
    {
     "data": {
      "text/plain": [
       "array([ 0.97581961,  0.87145653,  3.04617558,  1.1005869 ,  0.85921633,\n",
       "        0.82447028])"
      ]
     },
     "execution_count": 300,
     "metadata": {},
     "output_type": "execute_result"
    }
   ],
   "source": [
    "v2"
   ]
  },
  {
   "cell_type": "code",
   "execution_count": 285,
   "metadata": {
    "collapsed": false
   },
   "outputs": [],
   "source": [
    "DellCoff=np.array([[4,4,9],[2,4,9],[4,10,18],[7,16,27],[19,50,96],[108,220,279]])#sabke coff"
   ]
  },
  {
   "cell_type": "code",
   "execution_count": 267,
   "metadata": {
    "collapsed": false
   },
   "outputs": [
    {
     "data": {
      "text/plain": [
       "array([[  4,   4,   9],\n",
       "       [  2,   4,   9],\n",
       "       [  4,  10,  18],\n",
       "       [  7,  16,  27],\n",
       "       [ 19,  50,  96],\n",
       "       [108, 220, 279]])"
      ]
     },
     "execution_count": 267,
     "metadata": {},
     "output_type": "execute_result"
    }
   ],
   "source": [
    "DellCoff"
   ]
  },
  {
   "cell_type": "code",
   "execution_count": 268,
   "metadata": {
    "collapsed": false
   },
   "outputs": [],
   "source": [
    "InitialOperation=np.multiply((VariableMatrix),(DellCoff))"
   ]
  },
  {
   "cell_type": "code",
   "execution_count": 269,
   "metadata": {
    "collapsed": false
   },
   "outputs": [
    {
     "data": {
      "text/plain": [
       "array([[   4.        ,   -3.90081925,    8.55921985],\n",
       "       [   2.        ,   -0.60597542,    0.20655349],\n",
       "       [   4.        ,   10.15313689,   18.55551396],\n",
       "       [   7.        ,    1.47366062,    0.22904391],\n",
       "       [  19.        ,   -8.47605321,    2.75878956],\n",
       "       [ 108.        , -170.03633482,  166.66419605]])"
      ]
     },
     "execution_count": 269,
     "metadata": {},
     "output_type": "execute_result"
    }
   ],
   "source": [
    "InitialOperation"
   ]
  },
  {
   "cell_type": "code",
   "execution_count": 290,
   "metadata": {
    "collapsed": false
   },
   "outputs": [],
   "source": [
    "FinalDerivative=np.sum(InitialOperation,axis=1)\n"
   ]
  },
  {
   "cell_type": "code",
   "execution_count": 291,
   "metadata": {
    "collapsed": false
   },
   "outputs": [
    {
     "data": {
      "text/plain": [
       "array([   8.6584006 ,    1.60057807,   32.70865085,    8.70270453,\n",
       "         13.28273635,  104.62786124])"
      ]
     },
     "execution_count": 291,
     "metadata": {},
     "output_type": "execute_result"
    }
   ],
   "source": [
    "FinalDerivative"
   ]
  },
  {
   "cell_type": "code",
   "execution_count": 246,
   "metadata": {
    "collapsed": false
   },
   "outputs": [],
   "source": [
    "error=np.zeros(6)"
   ]
  },
  {
   "cell_type": "code",
   "execution_count": 247,
   "metadata": {
    "collapsed": false
   },
   "outputs": [
    {
     "data": {
      "text/plain": [
       "array([ 0.,  0.,  0.,  0.,  0.,  0.])"
      ]
     },
     "execution_count": 247,
     "metadata": {},
     "output_type": "execute_result"
    }
   ],
   "source": [
    "error"
   ]
  },
  {
   "cell_type": "code",
   "execution_count": 312,
   "metadata": {
    "collapsed": false
   },
   "outputs": [
    {
     "name": "stderr",
     "output_type": "stream",
     "text": [
      "<ipython-input-312-fa780c31a168>:2: SyntaxWarning: name 'error' is used prior to global declaration\n",
      "  global error\n"
     ]
    },
    {
     "ename": "ValueError",
     "evalue": "The truth value of an array with more than one element is ambiguous. Use a.any() or a.all()",
     "output_type": "error",
     "traceback": [
      "\u001b[0;31m---------------------------------------------------------------------------\u001b[0m",
      "\u001b[0;31mValueError\u001b[0m                                Traceback (most recent call last)",
      "\u001b[0;32m<ipython-input-312-fa780c31a168>\u001b[0m in \u001b[0;36m<module>\u001b[0;34m()\u001b[0m\n\u001b[0;32m----> 1\u001b[0;31m \u001b[1;32mwhile\u001b[0m\u001b[1;33m(\u001b[0m\u001b[0merror\u001b[0m\u001b[1;33m!=\u001b[0m \u001b[0mEps\u001b[0m\u001b[1;33m)\u001b[0m\u001b[1;33m:\u001b[0m\u001b[1;33m\u001b[0m\u001b[0m\n\u001b[0m\u001b[1;32m      2\u001b[0m     \u001b[1;32mglobal\u001b[0m \u001b[0merror\u001b[0m\u001b[1;33m\u001b[0m\u001b[0m\n\u001b[1;32m      3\u001b[0m     \u001b[0mNewValues\u001b[0m\u001b[1;33m=\u001b[0m\u001b[1;33m(\u001b[0m\u001b[0mInitialOperation\u001b[0m\u001b[1;33m.\u001b[0m\u001b[0mtranspose\u001b[0m\u001b[1;33m(\u001b[0m\u001b[1;33m)\u001b[0m\u001b[1;33m)\u001b[0m\u001b[1;33m-\u001b[0m\u001b[0mLR\u001b[0m\u001b[1;33m.\u001b[0m\u001b[0mFinalDerivative\u001b[0m\u001b[1;33m\u001b[0m\u001b[0m\n\u001b[1;32m      4\u001b[0m     \u001b[0mInitialOperation\u001b[0m\u001b[1;33m=\u001b[0m\u001b[0mNewValues\u001b[0m\u001b[1;33m\u001b[0m\u001b[0m\n\u001b[1;32m      5\u001b[0m     \u001b[0merror\u001b[0m\u001b[1;33m=\u001b[0m\u001b[0mnp\u001b[0m\u001b[1;33m.\u001b[0m\u001b[0msubtract\u001b[0m \u001b[1;33m(\u001b[0m\u001b[0mOldValue\u001b[0m\u001b[1;33m,\u001b[0m\u001b[0mNewValues\u001b[0m\u001b[1;33m)\u001b[0m\u001b[1;33m\u001b[0m\u001b[0m\n",
      "\u001b[0;31mValueError\u001b[0m: The truth value of an array with more than one element is ambiguous. Use a.any() or a.all()"
     ]
    }
   ],
   "source": [
    "while(error!= Eps):\n",
    "    global error\n",
    "    NewValues=(InitialOperation.transpose())-LR.FinalDerivative\n",
    "    InitialOperation=NewValues\n",
    "    error=np.subtract (OldValue,NewValues)\n",
    "    OldValue=NewValues\n",
    "# Funtion ki Initial Values-Func. ki Final values<Epsilon(eps) (abb kro break !!!!!!!11)%\n",
    "    "
   ]
  },
  {
   "cell_type": "code",
   "execution_count": 340,
   "metadata": {
    "collapsed": false
   },
   "outputs": [
    {
     "name": "stdout",
     "output_type": "stream",
     "text": [
      "[-0.97520481 -0.15149386  1.01531369  0.09210379 -0.16952106 -0.77289243]\n",
      "new\n",
      "[  122.19342799    23.27954954   460.96728746   122.93845033   186.81752517\n",
      "  1465.6145276 ]\n",
      "error\n",
      "[ -123.1686328    -23.4310434   -459.95197378  -122.84634654  -186.98704623\n",
      " -1466.38742003]\n"
     ]
    }
   ],
   "source": [
    "NewValues=np.subtract(v2,(LR*(FinalDerivative)))\n",
    "InitialOperation=NewValues\n",
    "error=np.subtract (OldValue,NewValues)\n",
    "\n",
    "print(OldValue)\n",
    "print(\"new\")\n",
    "print(NewValues)\n",
    "print(\"error\")\n",
    "print(error)"
   ]
  },
  {
   "cell_type": "code",
   "execution_count": 314,
   "metadata": {
    "collapsed": false
   },
   "outputs": [
    {
     "data": {
      "text/plain": [
       "array([  122.19342799,    23.27954954,   460.96728746,   122.93845033,\n",
       "         186.81752517,  1465.6145276 ])"
      ]
     },
     "execution_count": 314,
     "metadata": {},
     "output_type": "execute_result"
    }
   ],
   "source": [
    "InitialOperation"
   ]
  },
  {
   "cell_type": "code",
   "execution_count": null,
   "metadata": {
    "collapsed": false
   },
   "outputs": [],
   "source": []
  }
 ],
 "metadata": {
  "anaconda-cloud": {},
  "kernelspec": {
   "display_name": "Python [default]",
   "language": "python",
   "name": "python3"
  },
  "language_info": {
   "codemirror_mode": {
    "name": "ipython",
    "version": 3
   },
   "file_extension": ".py",
   "mimetype": "text/x-python",
   "name": "python",
   "nbconvert_exporter": "python",
   "pygments_lexer": "ipython3",
   "version": "3.5.2"
  }
 },
 "nbformat": 4,
 "nbformat_minor": 1
}
