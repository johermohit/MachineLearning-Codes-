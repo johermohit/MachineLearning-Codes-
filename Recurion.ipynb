{
 "cells": [
  {
   "cell_type": "markdown",
   "metadata": {},
   "source": [
    "# its not Calling Functions in function\n",
    "##  ITS TIME cOMPLEXITY Depends upon If Statements \n",
    "## without IFs it O1"
   ]
  },
  {
   "cell_type": "markdown",
   "metadata": {},
   "source": [
    "Linked list with Recursion"
   ]
  },
  {
   "cell_type": "raw",
   "metadata": {},
   "source": [
    "# code for c\n",
    "#include <stdlib.h>\n",
    "class node \n",
    "{\n",
    "    public:\n",
    "            int prime;\n",
    "            Node *prime;\n",
    "    \n",
    "};\n",
    "void main()\n",
    "{\n",
    "    int arr[100]; Node*NewNode=Node;\n",
    "    Node*FirstNode=null\n",
    "\n",
    "for (int i=0;i<100;i++)\n",
    "{\n",
    " for (j=2;j<arr[i];j++)\n",
    "    {\n",
    "        if (arr[i]%j==0)\n",
    "        break ;}\n",
    "if (j==arr[i])\n",
    "    {\n",
    "        NewNode=(Node*)Calloc(1,size of (Node));\n",
    "        if (FirstNode==None)\n",
    "        {\n",
    "            NewNode-->Prime=arr[i];\n",
    "            NewNode--> ptr=Null;\n",
    "            FirstNode=NewNode\n",
    "            Temp=NewNode;\n",
    "        }\n",
    "        else{\n",
    "            NewNode-->Prime=arr[i];\n",
    "            NewNode-->ptr=Temp;\n",
    "            Temp=NewNode;\n",
    "        }\n",
    "    }\n",
    "   }\n",
    "   \n",
    " // after closing all \n",
    "    printlinkedlist(Temp);\n",
    "    getch();\n",
    "    }"
   ]
  },
  {
   "cell_type": "raw",
   "metadata": {},
   "source": [
    "int PrintLinkedList(Node*FirstNodeAddr)\n",
    "{\n",
    "if(FirstNodeAddr==NUll)//base Comdition\n",
    "{\n",
    "    return0;//help to Come out of looping Function\n",
    "    }\n",
    "Printf(%d;FirstNodeAddr-->prime);\n",
    "\n",
    "FirstNodeAddr=FirstNOdeAddr-->ptr;\n",
    "\n",
    "printLinkedList(FirstNodeAddr);\n",
    "\n",
    "}\n"
   ]
  },
  {
   "cell_type": "raw",
   "metadata": {},
   "source": [
    "THree parts of fubnction\n",
    "1.DeclRatn\n",
    "2.Definatn \n",
    "3.Calling(programe is Paused )\n",
    "\n",
    "calling stack (keeps track all values passed to function)\n",
    ";Add of temp;\n",
    ";...........;\n",
    ";.......,,..;\n",
    ";...........;\n",
    "\n",
    "the MOvement the Program Encounter Base condition It WILL START DELETING THE sTACK i.e. it will empty the Stack\n"
   ]
  },
  {
   "cell_type": "code",
   "execution_count": null,
   "metadata": {
    "collapsed": true
   },
   "outputs": [],
   "source": []
  }
 ],
 "metadata": {
  "anaconda-cloud": {},
  "kernelspec": {
   "display_name": "Python [default]",
   "language": "python",
   "name": "python3"
  },
  "language_info": {
   "codemirror_mode": {
    "name": "ipython",
    "version": 3
   },
   "file_extension": ".py",
   "mimetype": "text/x-python",
   "name": "python",
   "nbconvert_exporter": "python",
   "pygments_lexer": "ipython3",
   "version": "3.5.2"
  }
 },
 "nbformat": 4,
 "nbformat_minor": 1
}
