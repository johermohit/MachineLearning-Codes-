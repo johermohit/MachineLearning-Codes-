{
 "cells": [
  {
   "cell_type": "code",
   "execution_count": 13,
   "metadata": {
    "collapsed": true
   },
   "outputs": [],
   "source": [
    "import matplotlib.pyplot as plt\n",
    "import random\n",
    "K=100\n",
    "yrange=5000\n",
    "N=5\n",
    "P=.3"
   ]
  },
  {
   "cell_type": "code",
   "execution_count": 14,
   "metadata": {
    "collapsed": true
   },
   "outputs": [],
   "source": [
    "def factorial(n):\n",
    "    j=1\n",
    "    for i in range(1,n+1):\n",
    "        j=j*i\n",
    "    return(j)"
   ]
  },
  {
   "cell_type": "code",
   "execution_count": 15,
   "metadata": {
    "collapsed": true
   },
   "outputs": [],
   "source": [
    "def combo(n,r):\n",
    "    c=(factorial(n))/((factorial(r))*(factorial((n-r))))\n",
    "    return(c)"
   ]
  },
  {
   "cell_type": "code",
   "execution_count": 16,
   "metadata": {
    "collapsed": false
   },
   "outputs": [
    {
     "data": {
      "text/plain": [
       "2.0"
      ]
     },
     "execution_count": 16,
     "metadata": {},
     "output_type": "execute_result"
    }
   ],
   "source": [
    "combo(2,1)"
   ]
  },
  {
   "cell_type": "code",
   "execution_count": 17,
   "metadata": {
    "collapsed": true
   },
   "outputs": [],
   "source": [
    "def binomial(n,r,p):\n",
    "    t=n-r\n",
    "    bino=((combo(n,r))*((p)**r)*((1-p)**(t)))\n",
    "    return(bino)\n"
   ]
  },
  {
   "cell_type": "code",
   "execution_count": 18,
   "metadata": {
    "collapsed": false
   },
   "outputs": [
    {
     "data": {
      "text/plain": [
       "0.9603999999999999"
      ]
     },
     "execution_count": 18,
     "metadata": {},
     "output_type": "execute_result"
    }
   ],
   "source": [
    "binomial(2,2,.98)"
   ]
  },
  {
   "cell_type": "code",
   "execution_count": 19,
   "metadata": {
    "collapsed": true
   },
   "outputs": [],
   "source": [
    "def ynet (y):\n",
    "    net=[]\n",
    "    for i in range(y):\n",
    "        net.append(binomial(N,i,P))\n",
    "    return (sum(net))"
   ]
  },
  {
   "cell_type": "code",
   "execution_count": 20,
   "metadata": {
    "collapsed": false
   },
   "outputs": [
    {
     "data": {
      "text/plain": [
       "5000"
      ]
     },
     "execution_count": 20,
     "metadata": {},
     "output_type": "execute_result"
    }
   ],
   "source": [
    "yrand=[]\n",
    "for i in range (yrange):\n",
    "    yrand.append(random.randint(0,10000)/10000)\n",
    "len(yrand)"
   ]
  },
  {
   "cell_type": "code",
   "execution_count": 26,
   "metadata": {
    "collapsed": false
   },
   "outputs": [
    {
     "name": "stdout",
     "output_type": "stream",
     "text": [
      "{0: 0.1267, 1: 0.3314, 2: 0.7267, 3: 0.9003, 4: 0.9904, 5: 0.9977, 6: 1.0}\n"
     ]
    }
   ],
   "source": [
    "da=[]\n",
    "db=[]\n",
    "for y in range (len(yrand)):\n",
    "    b=yrand[y]\n",
    "    da.append(b)\n",
    "    for i in range (0,K):\n",
    "        t =ynet(i)\n",
    "        #print (\"for value of i ={} ynet is {}\".format(i,t))\n",
    "        if t > b:\n",
    "            break\n",
    "        \n",
    "    i = i-1\n",
    "    db.append(i)\n",
    "    #print(i)\n",
    "    \n",
    "data =dict((zip(db,da)))\n",
    "print(data)\n",
    "freq=[]\n",
    "for i in db:\n",
    "    freq.append(i/K)\n"
   ]
  },
  {
   "cell_type": "code",
   "execution_count": 23,
   "metadata": {
    "collapsed": false
   },
   "outputs": [
    {
     "data": {
      "image/png": "[encoded data removed]",
      "text/plain": [
       "<matplotlib.figure.Figure at 0x20b5eba25f8>"
      ]
     },
     "metadata": {},
     "output_type": "display_data"
    }
   ],
   "source": [
    "plt.bar(db,freq,.1)\n",
    "plt.show()"
   ]
  },
  {
   "cell_type": "code",
   "execution_count": null,
   "metadata": {
    "collapsed": true
   },
   "outputs": [],
   "source": []
  }
 ],
 "metadata": {
  "kernelspec": {
   "display_name": "Python [default]",
   "language": "python",
   "name": "python3"
  },
  "language_info": {
   "codemirror_mode": {
    "name": "ipython",
    "version": 3
   },
   "file_extension": ".py",
   "mimetype": "text/x-python",
   "name": "python",
   "nbconvert_exporter": "python",
   "pygments_lexer": "ipython3",
   "version": "3.5.2"
  }
 },
 "nbformat": 4,
 "nbformat_minor": 1
}
