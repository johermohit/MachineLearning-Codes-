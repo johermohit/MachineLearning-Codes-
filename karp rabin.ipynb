{
 "cells": [
  {
   "cell_type": "code",
   "execution_count": 9,
   "metadata": {
    "collapsed": true
   },
   "outputs": [],
   "source": [
    "import random "
   ]
  },
  {
   "cell_type": "code",
   "execution_count": 10,
   "metadata": {
    "collapsed": true
   },
   "outputs": [],
   "source": [
    "ASC = {}\n",
    "LettersList = \"ABCDEFGHIJKLMNOPQRSTUVWXYZabcdefghijklmnopqrstuvwxyz0123456789 \""
   ]
  },
  {
   "cell_type": "code",
   "execution_count": 11,
   "metadata": {
    "collapsed": true
   },
   "outputs": [],
   "source": [
    "ASCStart = 65\n",
    "for Alphabet in LettersList[0:26]:\n",
    "    \n",
    "    ASC[ASCStart] = Alphabet\n",
    "    \n",
    "    ASCStart += 1"
   ]
  },
  {
   "cell_type": "code",
   "execution_count": 12,
   "metadata": {
    "collapsed": false
   },
   "outputs": [
    {
     "data": {
      "text/plain": [
       "{65: 'A',\n",
       " 66: 'B',\n",
       " 67: 'C',\n",
       " 68: 'D',\n",
       " 69: 'E',\n",
       " 70: 'F',\n",
       " 71: 'G',\n",
       " 72: 'H',\n",
       " 73: 'I',\n",
       " 74: 'J',\n",
       " 75: 'K',\n",
       " 76: 'L',\n",
       " 77: 'M',\n",
       " 78: 'N',\n",
       " 79: 'O',\n",
       " 80: 'P',\n",
       " 81: 'Q',\n",
       " 82: 'R',\n",
       " 83: 'S',\n",
       " 84: 'T',\n",
       " 85: 'U',\n",
       " 86: 'V',\n",
       " 87: 'W',\n",
       " 88: 'X',\n",
       " 89: 'Y',\n",
       " 90: 'Z'}"
      ]
     },
     "execution_count": 12,
     "metadata": {},
     "output_type": "execute_result"
    }
   ],
   "source": [
    "ASC"
   ]
  },
  {
   "cell_type": "code",
   "execution_count": 42,
   "metadata": {
    "collapsed": true
   },
   "outputs": [],
   "source": [
    "ASCStart = 97\n",
    "\n",
    "for Alphabet in LettersList[26:52]:\n",
    "    \n",
    "    ASC[ASCStart] = Alphabet\n",
    "    \n",
    "    ASCStart += 1"
   ]
  },
  {
   "cell_type": "code",
   "execution_count": 43,
   "metadata": {
    "collapsed": false
   },
   "outputs": [
    {
     "data": {
      "text/plain": [
       "{65: 'A',\n",
       " 66: 'B',\n",
       " 67: 'C',\n",
       " 68: 'D',\n",
       " 69: 'E',\n",
       " 70: 'F',\n",
       " 71: 'G',\n",
       " 72: 'H',\n",
       " 73: 'I',\n",
       " 74: 'J',\n",
       " 75: 'K',\n",
       " 76: 'L',\n",
       " 77: 'M',\n",
       " 78: 'N',\n",
       " 79: 'O',\n",
       " 80: 'P',\n",
       " 81: 'Q',\n",
       " 82: 'R',\n",
       " 83: 'S',\n",
       " 84: 'T',\n",
       " 85: 'U',\n",
       " 86: 'V',\n",
       " 87: 'W',\n",
       " 88: 'X',\n",
       " 89: 'Y',\n",
       " 90: 'Z',\n",
       " 97: 'a',\n",
       " 98: 'b',\n",
       " 99: 'c',\n",
       " 100: 'd',\n",
       " 101: 'e',\n",
       " 102: 'f',\n",
       " 103: 'g',\n",
       " 104: 'h',\n",
       " 105: 'i',\n",
       " 106: 'j',\n",
       " 107: 'k',\n",
       " 108: 'l',\n",
       " 109: 'm',\n",
       " 110: 'n',\n",
       " 111: 'o',\n",
       " 112: 'p',\n",
       " 113: 'q',\n",
       " 114: 'r',\n",
       " 115: 's',\n",
       " 116: 't',\n",
       " 117: 'u',\n",
       " 118: 'v',\n",
       " 119: 'w',\n",
       " 120: 'x',\n",
       " 121: 'y',\n",
       " 122: 'z'}"
      ]
     },
     "execution_count": 43,
     "metadata": {},
     "output_type": "execute_result"
    }
   ],
   "source": [
    "ASC"
   ]
  },
  {
   "cell_type": "code",
   "execution_count": 13,
   "metadata": {
    "collapsed": true
   },
   "outputs": [],
   "source": [
    "ASCStart = 48\n",
    "\n",
    "for Alphabet in LettersList[52:]:\n",
    "    ASC[ASCStart] = Alphabet\n",
    "    ASCStart += 1\n",
    "    "
   ]
  },
  {
   "cell_type": "code",
   "execution_count": 32,
   "metadata": {
    "collapsed": false
   },
   "outputs": [
    {
     "data": {
      "text/plain": [
       "{48: '0',\n",
       " 49: '1',\n",
       " 50: '2',\n",
       " 51: '3',\n",
       " 52: '4',\n",
       " 53: '5',\n",
       " 54: '6',\n",
       " 55: '7',\n",
       " 56: '8',\n",
       " 57: '9',\n",
       " 58: ' ',\n",
       " 65: 'A',\n",
       " 66: 'B',\n",
       " 67: 'C',\n",
       " 68: 'D',\n",
       " 69: 'E',\n",
       " 70: 'F',\n",
       " 71: 'G',\n",
       " 72: 'H',\n",
       " 73: 'I',\n",
       " 74: 'J',\n",
       " 75: 'K',\n",
       " 76: 'L',\n",
       " 77: 'M',\n",
       " 78: 'N',\n",
       " 79: 'O',\n",
       " 80: 'P',\n",
       " 81: 'Q',\n",
       " 82: 'R',\n",
       " 83: 'S',\n",
       " 84: 'T',\n",
       " 85: 'U',\n",
       " 86: 'V',\n",
       " 87: 'W',\n",
       " 88: 'X',\n",
       " 89: 'Y',\n",
       " 90: 'Z'}"
      ]
     },
     "execution_count": 32,
     "metadata": {},
     "output_type": "execute_result"
    }
   ],
   "source": [
    "ASC"
   ]
  },
  {
   "cell_type": "code",
   "execution_count": 5,
   "metadata": {
    "collapsed": false
   },
   "outputs": [],
   "source": [
    "LenSuperStr = random.randint(2,300)"
   ]
  },
  {
   "cell_type": "code",
   "execution_count": 15,
   "metadata": {
    "collapsed": false
   },
   "outputs": [
    {
     "data": {
      "text/plain": [
       "260"
      ]
     },
     "execution_count": 15,
     "metadata": {},
     "output_type": "execute_result"
    }
   ],
   "source": [
    "LenSuperStr"
   ]
  },
  {
   "cell_type": "code",
   "execution_count": 16,
   "metadata": {
    "collapsed": true
   },
   "outputs": [],
   "source": [
    "SuperString = \"\""
   ]
  },
  {
   "cell_type": "code",
   "execution_count": 17,
   "metadata": {
    "collapsed": false
   },
   "outputs": [],
   "source": [
    "for i in range(0,LenSuperStr):\n",
    "    \n",
    "    SuperString += LettersList[random.randint(0,(len(LettersList)-1))]"
   ]
  },
  {
   "cell_type": "code",
   "execution_count": 19,
   "metadata": {
    "collapsed": true
   },
   "outputs": [],
   "source": [
    "SuperString\n",
    "\n",
    "SuperString = \"This is Artificial Intelligence in Action and I love it\""
   ]
  },
  {
   "cell_type": "code",
   "execution_count": 20,
   "metadata": {
    "collapsed": true
   },
   "outputs": [],
   "source": [
    "SubString = \"\"\n",
    "LenSubString = random.randint(2,10)"
   ]
  },
  {
   "cell_type": "code",
   "execution_count": 21,
   "metadata": {
    "collapsed": false
   },
   "outputs": [
    {
     "data": {
      "text/plain": [
       "4"
      ]
     },
     "execution_count": 21,
     "metadata": {},
     "output_type": "execute_result"
    }
   ],
   "source": [
    "LenSubString"
   ]
  },
  {
   "cell_type": "code",
   "execution_count": 22,
   "metadata": {
    "collapsed": true
   },
   "outputs": [],
   "source": [
    "for i in range(0,LenSubString):\n",
    "    \n",
    "    SubString += LettersList[random.randint(0,(len(LettersList)-1))]"
   ]
  },
  {
   "cell_type": "code",
   "execution_count": 23,
   "metadata": {
    "collapsed": true
   },
   "outputs": [],
   "source": [
    "SubString\n",
    "\n",
    "SubString = \"Artificial\""
   ]
  },
  {
   "cell_type": "code",
   "execution_count": 55,
   "metadata": {
    "collapsed": true
   },
   "outputs": [],
   "source": [
    "#KARP RABIN ALGORITHM "
   ]
  },
  {
   "cell_type": "code",
   "execution_count": 56,
   "metadata": {
    "collapsed": false
   },
   "outputs": [],
   "source": [
    "HashValSubString = 0\n",
    "FlippedASC = {}\n",
    "\n",
    "for i in list(ASC.keys()):\n",
    "    FlippedASC[ASC[i]] = i\n",
    "\n",
    "    "
   ]
  },
  {
   "cell_type": "code",
   "execution_count": 57,
   "metadata": {
    "collapsed": false
   },
   "outputs": [
    {
     "data": {
      "text/plain": [
       "{' ': 58,\n",
       " '0': 48,\n",
       " '1': 49,\n",
       " '2': 50,\n",
       " '3': 51,\n",
       " '4': 52,\n",
       " '5': 53,\n",
       " '6': 54,\n",
       " '7': 55,\n",
       " '8': 56,\n",
       " '9': 57,\n",
       " 'A': 65,\n",
       " 'B': 66,\n",
       " 'C': 67,\n",
       " 'D': 68,\n",
       " 'E': 69,\n",
       " 'F': 70,\n",
       " 'G': 71,\n",
       " 'H': 72,\n",
       " 'I': 73,\n",
       " 'J': 74,\n",
       " 'K': 75,\n",
       " 'L': 76,\n",
       " 'M': 77,\n",
       " 'N': 78,\n",
       " 'O': 79,\n",
       " 'P': 80,\n",
       " 'Q': 81,\n",
       " 'R': 82,\n",
       " 'S': 83,\n",
       " 'T': 84,\n",
       " 'U': 85,\n",
       " 'V': 86,\n",
       " 'W': 87,\n",
       " 'X': 88,\n",
       " 'Y': 89,\n",
       " 'Z': 90}"
      ]
     },
     "execution_count": 57,
     "metadata": {},
     "output_type": "execute_result"
    }
   ],
   "source": [
    "FlippedASC"
   ]
  },
  {
   "cell_type": "code",
   "execution_count": 58,
   "metadata": {
    "collapsed": false
   },
   "outputs": [
    {
     "ename": "KeyError",
     "evalue": "'r'",
     "output_type": "error",
     "traceback": [
      "\u001b[0;31m---------------------------------------------------------------------------\u001b[0m",
      "\u001b[0;31mKeyError\u001b[0m                                  Traceback (most recent call last)",
      "\u001b[0;32m<ipython-input-58-0684e1f7ff7e>\u001b[0m in \u001b[0;36m<module>\u001b[0;34m()\u001b[0m\n\u001b[1;32m      4\u001b[0m \u001b[1;32mfor\u001b[0m \u001b[0mAlphabet\u001b[0m \u001b[1;32min\u001b[0m \u001b[0mSubString\u001b[0m\u001b[1;33m:\u001b[0m\u001b[1;33m\u001b[0m\u001b[0m\n\u001b[1;32m      5\u001b[0m \u001b[1;33m\u001b[0m\u001b[0m\n\u001b[0;32m----> 6\u001b[0;31m     \u001b[0mHashValSubString\u001b[0m \u001b[1;33m+=\u001b[0m \u001b[1;33m(\u001b[0m\u001b[0mFlippedASC\u001b[0m\u001b[1;33m[\u001b[0m\u001b[0mAlphabet\u001b[0m\u001b[1;33m]\u001b[0m \u001b[1;33m*\u001b[0m \u001b[0mPrimeNo\u001b[0m\u001b[1;33m**\u001b[0m\u001b[0mPower\u001b[0m\u001b[1;33m)\u001b[0m\u001b[1;33m\u001b[0m\u001b[0m\n\u001b[0m\u001b[1;32m      7\u001b[0m \u001b[1;33m\u001b[0m\u001b[0m\n\u001b[1;32m      8\u001b[0m     \u001b[0mPower\u001b[0m \u001b[1;33m+=\u001b[0m \u001b[1;36m1\u001b[0m\u001b[1;33m\u001b[0m\u001b[0m\n",
      "\u001b[0;31mKeyError\u001b[0m: 'r'"
     ]
    }
   ],
   "source": [
    "PrimeNo = 5\n",
    "Power = 1\n",
    "\n",
    "for Alphabet in SubString:\n",
    "    \n",
    "    HashValSubString += (FlippedASC[Alphabet] * PrimeNo**Power)\n",
    "    \n",
    "    Power += 1"
   ]
  },
  {
   "cell_type": "code",
   "execution_count": 59,
   "metadata": {
    "collapsed": false
   },
   "outputs": [
    {
     "data": {
      "text/plain": [
       "325"
      ]
     },
     "execution_count": 59,
     "metadata": {},
     "output_type": "execute_result"
    }
   ],
   "source": [
    "HashValSubString"
   ]
  },
  {
   "cell_type": "code",
   "execution_count": 61,
   "metadata": {
    "collapsed": false
   },
   "outputs": [
    {
     "name": "stdout",
     "output_type": "stream",
     "text": [
      "The Hash Value of SubString is 1294933300\n",
      "The Hash Value of Current Window at location 0 is 1368038145.0\n",
      "The Hash Value of SubString is 1294933300\n",
      "The Hash Value of Current Window at location 1 is 1406420025.0\n",
      "The Hash Value of SubString is 1294933300\n",
      "The Hash Value of Current Window at location 2 is 1306674525.0\n",
      "The Hash Value of SubString is 1294933300\n",
      "The Hash Value of Current Window at location 3 is 1257428540.0\n",
      "The Hash Value of SubString is 1294933300\n",
      "The Hash Value of Current Window at location 4 is 1276876275.0\n",
      "The Hash Value of SubString is 1294933300\n",
      "The Hash Value of Current Window at location 5 is 1222172025.0\n",
      "The Hash Value of SubString is 1294933300\n",
      "The Hash Value of Current Window at location 6 is 1269824915.0\n",
      "The Hash Value of SubString is 1294933300\n",
      "The Hash Value of Current Window at location 7 is 1201230550.0\n",
      "The Hash Value of SubString is 1294933300\n",
      "The Hash Value of Current Window at location 8 is 1294933545.0\n",
      "The Hash Value of SubString is 1294933300\n",
      "The Hash Value of Current Window at location 9 is 825392845.0\n",
      "The Hash Value of SubString is 1294933300\n",
      "The Hash Value of Current Window at location 10 is 877969078.0\n",
      "The Hash Value of SubString is 1294933300\n",
      "The Hash Value of Current Window at location 11 is 1249812460.6\n",
      "The Hash Value of SubString is 1294933300\n",
      "The Hash Value of Current Window at location 12 is 1382774890.12\n",
      "The Hash Value of SubString is 1294933300\n",
      "The Hash Value of Current Window at location 13 is 1262882998.024\n",
      "The Hash Value of SubString is 1294933300\n",
      "The Hash Value of Current Window at location 14 is 1307264000.6048\n",
      "The Hash Value of SubString is 1294933300\n",
      "The Hash Value of Current Window at location 15 is 1316140195.12096\n",
      "The Hash Value of SubString is 1294933300\n",
      "The Hash Value of Current Window at location 16 is 1288618567.024192\n",
      "The Hash Value of SubString is 1294933300\n",
      "The Hash Value of Current Window at location 17 is 1263582980.4048383\n",
      "The Hash Value of SubString is 1294933300\n",
      "The Hash Value of Current Window at location 18 is 1239044663.0809677\n",
      "The Hash Value of SubString is 1294933300\n",
      "The Hash Value of Current Window at location 19 is 1322027609.6161935\n",
      "The Hash Value of SubString is 1294933300\n",
      "The Hash Value of Current Window at location 20 is 1231202286.9232388\n",
      "The Hash Value of SubString is 1294933300\n",
      "The Hash Value of Current Window at location 21 is 1232568466.3846478\n",
      "The Hash Value of SubString is 1294933300\n",
      "The Hash Value of Current Window at location 22 is 812919842.2769296\n",
      "The Hash Value of SubString is 1294933300\n",
      "The Hash Value of Current Window at location 23 is 1187974485.455386\n",
      "The Hash Value of SubString is 1294933300\n",
      "The Hash Value of Current Window at location 24 is 1311813539.091077\n",
      "The Hash Value of SubString is 1294933300\n",
      "The Hash Value of Current Window at location 25 is 828768852.8182154\n",
      "The Hash Value of SubString is 1294933300\n",
      "The Hash Value of Current Window at location 26 is 800519292.5636431\n",
      "The Hash Value of SubString is 1294933300\n",
      "The Hash Value of Current Window at location 27 is 1126900632.5127287\n",
      "The Hash Value of SubString is 1294933300\n",
      "The Hash Value of Current Window at location 28 is 1358192516.5025458\n",
      "The Hash Value of SubString is 1294933300\n",
      "The Hash Value of Current Window at location 29 is 1297029029.3005092\n",
      "The Hash Value of SubString is 1294933300\n",
      "The Hash Value of Current Window at location 30 is 1343390079.860102\n",
      "The Hash Value of SubString is 1294933300\n",
      "The Hash Value of Current Window at location 31 is 1342896707.9720204\n",
      "The Hash Value of SubString is 1294933300\n",
      "The Hash Value of Current Window at location 32 is 834985486.5944041\n",
      "The Hash Value of SubString is 1294933300\n",
      "The Hash Value of Current Window at location 33 is 1114262612.3188808\n",
      "The Hash Value of SubString is 1294933300\n",
      "The Hash Value of Current Window at location 34 is 1297071214.463776\n",
      "The Hash Value of SubString is 1294933300\n",
      "The Hash Value of Current Window at location 35 is 1235976677.8927553\n",
      "The Hash Value of SubString is 1294933300\n",
      "The Hash Value of Current Window at location 36 is 813601486.578551\n",
      "The Hash Value of SubString is 1294933300\n",
      "The Hash Value of Current Window at location 37 is 875610806.3157102\n",
      "The Hash Value of SubString is 1294933300\n",
      "The Hash Value of Current Window at location 38 is 741528306.2631421\n",
      "The Hash Value of SubString is 1294933300\n",
      "The Hash Value of Current Window at location 39 is 1202993050.2526283\n",
      "The Hash Value of SubString is 1294933300\n",
      "The Hash Value of Current Window at location 40 is 1324582875.0505257\n",
      "The Hash Value of SubString is 1294933300\n",
      "The Hash Value of Current Window at location 41 is 1417260267.0101051\n",
      "The Hash Value of SubString is 1294933300\n",
      "The Hash Value of Current Window at location 42 is 1269780081.402021\n",
      "The Hash Value of SubString is 1294933300\n",
      "The Hash Value of Current Window at location 43 is 820362156.2804042\n",
      "The Hash Value of SubString is 1294933300\n",
      "The Hash Value of Current Window at location 44 is 1189462956.2560809\n",
      "The Hash Value of SubString is 1294933300\n",
      "The Hash Value of Current Window at location 45 is 1370705033.2512162\n"
     ]
    }
   ],
   "source": [
    "HashValueSearchStr = 0\n",
    "Power = 1\n",
    "\n",
    "for Alphabet in SuperString[0:len(SubString)]:\n",
    "        \n",
    "    HashValueSearchStr += (FlippedASC[Alphabet] * PrimeNo**Power)\n",
    "    Power += 1\n",
    "\n",
    "for i in range(0,((len(SuperString)-len(SubString))+1)):\n",
    "        \n",
    "    if HashValueSearchStr == HashValSubString:\n",
    "        \n",
    "        print(\"String found at location number {}\".format(i+1))\n",
    "        \n",
    "    HashValueSearchStr -= (FlippedASC[SuperString[i]] * PrimeNo)\n",
    "    \n",
    "    HashValueSearchStr = HashValueSearchStr/PrimeNo\n",
    "    \n",
    "    HashValueSearchStr += (FlippedASC[SuperString[i+(len(SubString))-1]] * PrimeNo**len(SubString))\n",
    "    \n",
    "    print(\"The Hash Value of SubString is {}\".format(HashValSubString))\n",
    "    print(\"The Hash Value of Current Window at location {} is {}\".format(i,HashValueSearchStr))"
   ]
  },
  {
   "cell_type": "code",
   "execution_count": null,
   "metadata": {
    "collapsed": true
   },
   "outputs": [],
   "source": []
  }
 ],
 "metadata": {
  "anaconda-cloud": {},
  "kernelspec": {
   "display_name": "Python [default]",
   "language": "python",
   "name": "python3"
  },
  "language_info": {
   "codemirror_mode": {
    "name": "ipython",
    "version": 3
   },
   "file_extension": ".py",
   "mimetype": "text/x-python",
   "name": "python",
   "nbconvert_exporter": "python",
   "pygments_lexer": "ipython3",
   "version": "3.5.2"
  }
 },
 "nbformat": 4,
 "nbformat_minor": 2
}
