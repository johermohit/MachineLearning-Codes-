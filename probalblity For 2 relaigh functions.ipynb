{
 "cells": [
  {
   "cell_type": "code",
   "execution_count": null,
   "metadata": {
    "collapsed": false
   },
   "outputs": [],
   "source": [
    "\"\"\" You need to genrate a data base having 100 value  of 2 RAndom variables (2 couumns ) Named Heihh=ght \n",
    "and weight Both r realigh Distribuuted with modes o 170 md an 65 kgs \n",
    "Find the modes of Generated data and Plot tghe 3D plot and calculte the Joint Probabliltiy \"\"\""
   ]
  },
  {
   "cell_type": "code",
   "execution_count": 2,
   "metadata": {
    "collapsed": true
   },
   "outputs": [],
   "source": [
    "import math \n",
    "import random \n",
    "import matplotlib.pyplot as plt\n",
    "import numpy as np\n",
    "from mpl_toolkits.mplot3d import axes3d\n"
   ]
  },
  {
   "cell_type": "code",
   "execution_count": 3,
   "metadata": {
    "collapsed": false
   },
   "outputs": [],
   "source": [
    "def Relaigh(Mode,MiniMumValueOfRV,TotalNumberofValuesofRV):\n",
    "    RVValues = []\n",
    "    l = ((Mode)**2)\n",
    "    m = math.exp(-(((MiniMumValueOfRV)**2)/(2*l)))\n",
    "\n",
    "    for i in range(0,TotalNumberofValuesofRV):\n",
    "\n",
    "        y = (random.randint(0,10000))/10000\n",
    "\n",
    "        n = math.log((1/(m - y))**2)\n",
    "\n",
    "        K = math.sqrt((l * n))\n",
    "        RVValues.append(K)\n",
    "    return(RVValues)"
   ]
  },
  {
   "cell_type": "code",
   "execution_count": 4,
   "metadata": {
    "collapsed": false
   },
   "outputs": [],
   "source": [
    "RVValuesForHeight=Relaigh(170,2,1000)\n"
   ]
  },
  {
   "cell_type": "code",
   "execution_count": 5,
   "metadata": {
    "collapsed": true
   },
   "outputs": [],
   "source": [
    "RVValuesForWeight=Relaigh(65,2,1000)"
   ]
  },
  {
   "cell_type": "code",
   "execution_count": 6,
   "metadata": {
    "collapsed": true
   },
   "outputs": [],
   "source": [
    "def Plot(RVValues,MinOfRV,TotalBins):\n",
    "    MaxOfRV=max(RVValues)\n",
    "    BinWidth=((MaxOfRV-MinOfRV)/TotalBins)\n",
    "    Frequency=[0]*np.linspace(MinOfRV,MaxOfRV,TotalBins)\n",
    "    BinWidth=((MaxOfRV-MinOfRV)/TotalBins)\n",
    "    LenRV=len(RVValues)\n",
    "    for i in range(100):\n",
    "        Frequency[math.floor((RVValues[i]-MinOfRV)/BinWidth)] += 1\n",
    "    print(Frequency)\n",
    "    XAxisValues = [1] * (np.linspace(MinOfRV,MaxOfRV,TotalBins))\n",
    "    print(XAxisValues)\n",
    "    plt.scatter(XAxisValues,Frequency/LenRV,BinWidth)\n",
    "    return(plt.scatter(XAxisValues,Frequency/LenRV,BinWidth))"
   ]
  },
  {
   "cell_type": "code",
   "execution_count": 7,
   "metadata": {
    "collapsed": false
   },
   "outputs": [
    {
     "name": "stdout",
     "output_type": "stream",
     "text": [
      "[ 0.  4.  1.  5.  4.  6.  6.  4.  2.  7.  7.  7.  5.  1.  9.  3.  3.  3.\n",
      "  7.  5.  1.  0.  1.  3.  1.  2.  0.  0.  1.  0.  0.  0.  0.  0.  0.  0.\n",
      "  0.  2.  0.  0.]\n",
      "[   1.           18.81312977   36.62625954   54.4393893    72.25251907\n",
      "   90.06564884  107.87877861  125.69190837  143.50503814  161.31816791\n",
      "  179.13129768  196.94442744  214.75755721  232.57068698  250.38381675\n",
      "  268.19694651  286.01007628  303.82320605  321.63633582  339.44946559\n",
      "  357.26259535  375.07572512  392.88885489  410.70198466  428.51511442\n",
      "  446.32824419  464.14137396  481.95450373  499.76763349  517.58076326\n",
      "  535.39389303  553.2070228   571.02015257  588.83328233  606.6464121\n",
      "  624.45954187  642.27267164  660.0858014   677.89893117  695.71206094]\n"
     ]
    },
    {
     "data": {
      "text/plain": [
       "<matplotlib.collections.PathCollection at 0x182da5fcfd0>"
      ]
     },
     "execution_count": 7,
     "metadata": {},
     "output_type": "execute_result"
    }
   ],
   "source": [
    "Plot(RVValuesForHeight,1,40)\n",
    "\n",
    "\n"
   ]
  },
  {
   "cell_type": "code",
   "execution_count": 8,
   "metadata": {
    "collapsed": false
   },
   "outputs": [
    {
     "name": "stdout",
     "output_type": "stream",
     "text": [
      "[  0.   0.   4.   5.   4.   6.   6.   6.   5.   5.   9.   9.  10.   3.   5.\n",
      "   3.   4.   5.   0.   6.   1.   0.   1.   2.   0.   1.   0.   0.   0.   0.\n",
      "   0.   0.   0.   0.   0.   0.   0.   0.   0.   0.]\n",
      "[   1.            8.03496124   15.06992249   22.10488373   29.13984498\n",
      "   36.17480622   43.20976746   50.24472871   57.27968995   64.3146512\n",
      "   71.34961244   78.38457368   85.41953493   92.45449617   99.48945741\n",
      "  106.52441866  113.5593799   120.59434115  127.62930239  134.66426363\n",
      "  141.69922488  148.73418612  155.76914737  162.80410861  169.83906985\n",
      "  176.8740311   183.90899234  190.94395359  197.97891483  205.01387607\n",
      "  212.04883732  219.08379856  226.11875981  233.15372105  240.18868229\n",
      "  247.22364354  254.25860478  261.29356603  268.32852727  275.36348851]\n"
     ]
    },
    {
     "data": {
      "text/plain": [
       "<matplotlib.collections.PathCollection at 0x182da6cd208>"
      ]
     },
     "execution_count": 8,
     "metadata": {},
     "output_type": "execute_result"
    }
   ],
   "source": [
    "Plot(RVValuesForWeight,1,40)"
   ]
  },
  {
   "cell_type": "code",
   "execution_count": 9,
   "metadata": {
    "collapsed": false
   },
   "outputs": [],
   "source": [
    "fig = plt.figure()\n",
    "ax = fig.add_subplot(111, projection='3d')\n"
   ]
  },
  {
   "cell_type": "code",
   "execution_count": 10,
   "metadata": {
    "collapsed": false
   },
   "outputs": [
    {
     "name": "stdout",
     "output_type": "stream",
     "text": [
      "[ 0.  4.  1.  5.  4.  6.  6.  4.  2.  7.  7.  7.  5.  1.  9.  3.  3.  3.\n",
      "  7.  5.  1.  0.  1.  3.  1.  2.  0.  0.  1.  0.  0.  0.  0.  0.  0.  0.\n",
      "  0.  2.  0.  0.]\n",
      "[   1.           18.81312977   36.62625954   54.4393893    72.25251907\n",
      "   90.06564884  107.87877861  125.69190837  143.50503814  161.31816791\n",
      "  179.13129768  196.94442744  214.75755721  232.57068698  250.38381675\n",
      "  268.19694651  286.01007628  303.82320605  321.63633582  339.44946559\n",
      "  357.26259535  375.07572512  392.88885489  410.70198466  428.51511442\n",
      "  446.32824419  464.14137396  481.95450373  499.76763349  517.58076326\n",
      "  535.39389303  553.2070228   571.02015257  588.83328233  606.6464121\n",
      "  624.45954187  642.27267164  660.0858014   677.89893117  695.71206094]\n"
     ]
    },
    {
     "data": {
      "text/plain": [
       "mpl_toolkits.mplot3d.art3d.Path3DCollection"
      ]
     },
     "execution_count": 10,
     "metadata": {},
     "output_type": "execute_result"
    }
   ],
   "source": [
    "type(Plot(RVValuesForHeight,1,40))"
   ]
  },
  {
   "cell_type": "code",
   "execution_count": 13,
   "metadata": {
    "collapsed": false
   },
   "outputs": [
    {
     "name": "stdout",
     "output_type": "stream",
     "text": [
      "[ 0.  4.  1.  5.  4.  6.  6.  4.  2.  7.  7.  7.  5.  1.  9.  3.  3.  3.\n",
      "  7.  5.  1.  0.  1.  3.  1.  2.  0.  0.  1.  0.  0.  0.  0.  0.  0.  0.\n",
      "  0.  2.  0.  0.]\n",
      "[   1.           18.81312977   36.62625954   54.4393893    72.25251907\n",
      "   90.06564884  107.87877861  125.69190837  143.50503814  161.31816791\n",
      "  179.13129768  196.94442744  214.75755721  232.57068698  250.38381675\n",
      "  268.19694651  286.01007628  303.82320605  321.63633582  339.44946559\n",
      "  357.26259535  375.07572512  392.88885489  410.70198466  428.51511442\n",
      "  446.32824419  464.14137396  481.95450373  499.76763349  517.58076326\n",
      "  535.39389303  553.2070228   571.02015257  588.83328233  606.6464121\n",
      "  624.45954187  642.27267164  660.0858014   677.89893117  695.71206094]\n",
      "[  0.   0.   4.   5.   4.   6.   6.   6.   5.   5.   9.   9.  10.   3.   5.\n",
      "   3.   4.   5.   0.   6.   1.   0.   1.   2.   0.   1.   0.   0.   0.   0.\n",
      "   0.   0.   0.   0.   0.   0.   0.   0.   0.   0.]\n",
      "[   1.            8.03496124   15.06992249   22.10488373   29.13984498\n",
      "   36.17480622   43.20976746   50.24472871   57.27968995   64.3146512\n",
      "   71.34961244   78.38457368   85.41953493   92.45449617   99.48945741\n",
      "  106.52441866  113.5593799   120.59434115  127.62930239  134.66426363\n",
      "  141.69922488  148.73418612  155.76914737  162.80410861  169.83906985\n",
      "  176.8740311   183.90899234  190.94395359  197.97891483  205.01387607\n",
      "  212.04883732  219.08379856  226.11875981  233.15372105  240.18868229\n",
      "  247.22364354  254.25860478  261.29356603  268.32852727  275.36348851]\n"
     ]
    },
    {
     "ename": "TypeError",
     "evalue": "'Path3DCollection' object is not iterable",
     "output_type": "error",
     "traceback": [
      "\u001b[0;31m---------------------------------------------------------------------------\u001b[0m",
      "\u001b[0;31mTypeError\u001b[0m                                 Traceback (most recent call last)",
      "\u001b[0;32m<ipython-input-13-b07113bfa857>\u001b[0m in \u001b[0;36m<module>\u001b[0;34m()\u001b[0m\n\u001b[1;32m      1\u001b[0m \u001b[0mX\u001b[0m\u001b[1;33m=\u001b[0m\u001b[1;33m(\u001b[0m\u001b[0mPlot\u001b[0m\u001b[1;33m(\u001b[0m\u001b[0mRVValuesForHeight\u001b[0m\u001b[1;33m,\u001b[0m\u001b[1;36m1\u001b[0m\u001b[1;33m,\u001b[0m\u001b[1;36m40\u001b[0m\u001b[1;33m)\u001b[0m\u001b[1;33m)\u001b[0m\u001b[1;33m\u001b[0m\u001b[0m\n\u001b[0;32m----> 2\u001b[0;31m \u001b[0mY\u001b[0m\u001b[1;33m=\u001b[0m\u001b[0mlist\u001b[0m\u001b[1;33m(\u001b[0m\u001b[0mPlot\u001b[0m\u001b[1;33m(\u001b[0m\u001b[0mRVValuesForWeight\u001b[0m\u001b[1;33m,\u001b[0m\u001b[1;36m1\u001b[0m\u001b[1;33m,\u001b[0m\u001b[1;36m40\u001b[0m\u001b[1;33m)\u001b[0m\u001b[1;33m)\u001b[0m\u001b[1;33m\u001b[0m\u001b[0m\n\u001b[0m\u001b[1;32m      3\u001b[0m \u001b[0mb\u001b[0m\u001b[1;33m=\u001b[0m\u001b[1;33m[\u001b[0m\u001b[1;36m1\u001b[0m\u001b[1;33m]\u001b[0m \u001b[1;33m*\u001b[0m \u001b[0mnp\u001b[0m\u001b[1;33m.\u001b[0m\u001b[0mlinspace\u001b[0m\u001b[1;33m(\u001b[0m\u001b[1;36m1\u001b[0m\u001b[1;33m,\u001b[0m\u001b[1;36m200\u001b[0m\u001b[1;33m,\u001b[0m\u001b[1;36m40\u001b[0m\u001b[1;33m)\u001b[0m\u001b[1;33m\u001b[0m\u001b[0m\n\u001b[1;32m      4\u001b[0m \u001b[0mZ\u001b[0m\u001b[1;33m=\u001b[0m\u001b[0mlist\u001b[0m\u001b[1;33m(\u001b[0m\u001b[0mb\u001b[0m\u001b[1;33m)\u001b[0m\u001b[1;33m\u001b[0m\u001b[0m\n",
      "\u001b[0;31mTypeError\u001b[0m: 'Path3DCollection' object is not iterable"
     ]
    }
   ],
   "source": [
    "X=(Plot(RVValuesForHeight,1,40))\n",
    "Y=list(Plot(RVValuesForWeight,1,40))\n",
    "b=[1] * np.linspace(1,200,40)\n",
    "Z=list(b)"
   ]
  },
  {
   "cell_type": "code",
   "execution_count": 14,
   "metadata": {
    "collapsed": false
   },
   "outputs": [
    {
     "ename": "NameError",
     "evalue": "name 'Y' is not defined",
     "output_type": "error",
     "traceback": [
      "\u001b[0;31m---------------------------------------------------------------------------\u001b[0m",
      "\u001b[0;31mNameError\u001b[0m                                 Traceback (most recent call last)",
      "\u001b[0;32m<ipython-input-14-e03131b7825d>\u001b[0m in \u001b[0;36m<module>\u001b[0;34m()\u001b[0m\n\u001b[1;32m      1\u001b[0m \u001b[1;31m# ax.plot_wireframe(X,Y,Z)\u001b[0m\u001b[1;33m\u001b[0m\u001b[1;33m\u001b[0m\u001b[0m\n\u001b[1;32m      2\u001b[0m \u001b[1;33m\u001b[0m\u001b[0m\n\u001b[0;32m----> 3\u001b[0;31m \u001b[0max\u001b[0m\u001b[1;33m.\u001b[0m\u001b[0mscatter\u001b[0m\u001b[1;33m(\u001b[0m\u001b[0mX\u001b[0m\u001b[1;33m,\u001b[0m\u001b[0mY\u001b[0m\u001b[1;33m,\u001b[0m\u001b[0mZ\u001b[0m\u001b[1;33m)\u001b[0m\u001b[1;33m\u001b[0m\u001b[0m\n\u001b[0m",
      "\u001b[0;31mNameError\u001b[0m: name 'Y' is not defined"
     ]
    }
   ],
   "source": [
    "# ax.plot_wireframe(X,Y,Z)\n",
    "\n",
    "ax.scatter(X,Y,Z)\n"
   ]
  },
  {
   "cell_type": "code",
   "execution_count": null,
   "metadata": {
    "collapsed": true
   },
   "outputs": [],
   "source": []
  },
  {
   "cell_type": "code",
   "execution_count": null,
   "metadata": {
    "collapsed": true
   },
   "outputs": [],
   "source": []
  }
 ],
 "metadata": {
  "anaconda-cloud": {},
  "kernelspec": {
   "display_name": "Python [default]",
   "language": "python",
   "name": "python3"
  },
  "language_info": {
   "codemirror_mode": {
    "name": "ipython",
    "version": 3
   },
   "file_extension": ".py",
   "mimetype": "text/x-python",
   "name": "python",
   "nbconvert_exporter": "python",
   "pygments_lexer": "ipython3",
   "version": "3.5.2"
  }
 },
 "nbformat": 4,
 "nbformat_minor": 1
}
