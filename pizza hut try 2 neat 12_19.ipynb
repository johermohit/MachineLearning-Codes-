{
 "cells": [
  {
   "cell_type": "code",
   "execution_count": 297,
   "metadata": {
    "collapsed": false
   },
   "outputs": [],
   "source": [
    "import time\n",
    "import threading\n",
    "import random\n",
    "import numpy as np \n",
    "\n",
    "TimeSlotMean=15\n",
    "EntryQueue=[]\n",
    "ArrivalQueue=[]\n",
    "RemovingQueue=[]"
   ]
  },
  {
   "cell_type": "code",
   "execution_count": 296,
   "metadata": {
    "collapsed": false
   },
   "outputs": [],
   "source": [
    "NewCustomerId=[]\n",
    "DeleteCustomer=[]\n",
    "TimeSeconds=0\n",
    "Minutes=0\n",
    "OrderReady=0\n",
    "NewCustomer=0\n",
    "CustomerCounter=0\n",
    "CustomerFlag = 0\n",
    "InterArrival=0\n",
    "Serving=0\n",
    "CustomerThCount=0\n",
    "ServingThCount=0\n",
    "ServingFlag=0"
   ]
  },
  {
   "cell_type": "code",
   "execution_count": 99,
   "metadata": {
    "collapsed": true
   },
   "outputs": [],
   "source": [
    "class CustomerClass:\n",
    "    def __init__(self,EntryTime,ServingTime):\n",
    "        self.EnT=EntryTime\n",
    "        self.ExT=EntryTime+(ServingTime)\n",
    "        self.WT=ServingTime#waiting timclass\n"
   ]
  },
  {
   "cell_type": "code",
   "execution_count": null,
   "metadata": {
    "collapsed": false
   },
   "outputs": [],
   "source": []
  },
  {
   "cell_type": "code",
   "execution_count": 100,
   "metadata": {
    "collapsed": false
   },
   "outputs": [],
   "source": [
    "class CustomerManager:\n",
    "    def __init__(self,CustomerId):\n",
    "        self.Cid=CustomerId\n",
    "    \n",
    "    def add(self,Cid):\n",
    "        EntryQueue.append(Cid)\n",
    "        print(\"Added {} to EntryQuoue\".format(Cid))\n",
    "    def remove(self,Cid):\n",
    "        print(\"Removed {} from EntryQuoue\".format(Cid))\n",
    "        if Cid in EntryQueue:\n",
    "            EntryQueue.remove(Cid)\n",
    "        else:\n",
    "           'break'\n",
    "    def AvergeWaitTime():\n",
    "        pass"
   ]
  },
  {
   "cell_type": "code",
   "execution_count": 101,
   "metadata": {
    "collapsed": false
   },
   "outputs": [],
   "source": [
    "Manager=CustomerManager(1)"
   ]
  },
  {
   "cell_type": "code",
   "execution_count": 102,
   "metadata": {
    "collapsed": false
   },
   "outputs": [
    {
     "data": {
      "text/plain": [
       "[]"
      ]
     },
     "execution_count": 102,
     "metadata": {},
     "output_type": "execute_result"
    }
   ],
   "source": [
    "EntryQueue"
   ]
  },
  {
   "cell_type": "code",
   "execution_count": 279,
   "metadata": {
    "collapsed": false
   },
   "outputs": [],
   "source": [
    "def ServingOrder(ServingTime,CustomerId):\n",
    "    global OrderReady\n",
    "    global DeleteCustomer\n",
    "    global RemovingQueue\n",
    "    time.sleep(ServingTime)\n",
    "    DeleteCustomer=CustomerId\n",
    "    RemovingQueue.append(DeleteCustomer)\n",
    "    print(\"OrderServed for {}\".format(CustomerId))\n",
    "    OrderReady=1"
   ]
  },
  {
   "cell_type": "code",
   "execution_count": 104,
   "metadata": {
    "collapsed": false
   },
   "outputs": [],
   "source": [
    "def FirstCustomer():\n",
    "    global CustomerCounter\n",
    "    global NewCustomerId\n",
    "    t=CustomerCounter+1\n",
    "    CustomerId='Customer'+str(t)\n",
    "    NewCustomerId=CustomerId"
   ]
  },
  {
   "cell_type": "code",
   "execution_count": 105,
   "metadata": {
    "collapsed": false
   },
   "outputs": [],
   "source": [
    "def NewOrder(SleepTimer):\n",
    "    global CustomerFlag\n",
    "    global CustomerCounter\n",
    "    global NewCustomerId\n",
    "    time.sleep(SleepTimer)\n",
    "    CustomerFlag = 1\n",
    "    CustomerCounter+=1\n",
    "    CustomerId='Customer'+ str(CustomerCounter)\n",
    "    NewCustomerId=CustomerId\n",
    "    print(\"New Customer Arrived with OrderId {}\".format(NewCustomerId))"
   ]
  },
  {
   "cell_type": "code",
   "execution_count": 106,
   "metadata": {
    "collapsed": true
   },
   "outputs": [],
   "source": [
    "def InterArrivalTime():\n",
    "    global InterArrival\n",
    "    global ArrivalQueue\n",
    "    InterArrivalTime=int(np.random.randn()+TimeSlotMean)\n",
    "    interArrival=InterArrivalTime\n",
    "    ArrivalQueue.append(InterArrivalTime)"
   ]
  },
  {
   "cell_type": "code",
   "execution_count": 107,
   "metadata": {
    "collapsed": false
   },
   "outputs": [],
   "source": [
    "def ServingTime():\n",
    "    global Serving\n",
    "    ServingTime=int(np.random.randn()+TimeSlotMean)\n",
    "    Serving=ServingTime"
   ]
  },
  {
   "cell_type": "code",
   "execution_count": 108,
   "metadata": {
    "collapsed": false
   },
   "outputs": [],
   "source": [
    "def TimeTracker(Time,Choice):\n",
    "    Hours=9\n",
    "    \n",
    "    global TimeSeconds\n",
    "    global Minutes\n",
    "    TimeSeconds=TimeSeconds+Time\n",
    "    \n",
    "    if TimeSeconds>=60:\n",
    "        Minutes+=1\n",
    "        TimeSeconds=TimeSeconds-60\n",
    "        \n",
    "    elif Minutes>=60:\n",
    "        Minutes=0\n",
    "        Hours+=1\n",
    "    if Choice =='H':\n",
    "        return(Hours)\n",
    "    elif Choice=='M':\n",
    "        return(Minutes)\n",
    "    elif Choice=='S':\n",
    "        return(TimeSeconds)\n",
    "    elif Choice=='TS':\n",
    "        stmp=[Hours,Minutes,TimeSeconds]\n",
    "        stmp1=''.join(str(e) for e in stmp)\n",
    "        return(stmp1) "
   ]
  },
  {
   "cell_type": "code",
   "execution_count": 109,
   "metadata": {
    "collapsed": false
   },
   "outputs": [],
   "source": [
    "def AddCustomerToClass(NewCustomerId,Time,ServingTime):\n",
    "    Manager.add(NewCustomerId)\n",
    "    Entry=(TimeTracker(Time,\"TS\"))\n",
    "    EntryTime=int(Entry)\n",
    "    NewCustomerId=CustomerClass(EntryTime,ServingTime)"
   ]
  },
  {
   "cell_type": "code",
   "execution_count": 110,
   "metadata": {
    "collapsed": true
   },
   "outputs": [],
   "source": [
    "def AddFirstCustomerToClass(NewCustomerId,ServingTime):\n",
    "    Manager.add(NewCustomerId)\n",
    "    Entry=(TimeTracker(0,\"TS\"))\n",
    "    EntryTime=int(Entry)\n",
    "    NewCustomerId=CustomerClass(EntryTime,ServingTime)\n",
    "   "
   ]
  },
  {
   "cell_type": "code",
   "execution_count": 111,
   "metadata": {
    "collapsed": false
   },
   "outputs": [],
   "source": [
    "def CustomerThread(InterArrival): \n",
    "    global CustomerThCount \n",
    "    CustomerThCount+=1\n",
    "    CustomerThId=str(CustomerThCount)\n",
    "    CustomerThId=threading.Thread(target=NewOrder,args=(InterArrival,))\n",
    "    CustomerThId.start()"
   ]
  },
  {
   "cell_type": "code",
   "execution_count": 268,
   "metadata": {
    "collapsed": false
   },
   "outputs": [],
   "source": [
    "def ServingThread(NewCustomerId,Serving):\n",
    "    global ServingThCount\n",
    "    global ServingFlag\n",
    "    ServingThCount+=1\n",
    "    ServingThId=str(NewCustomerId)+str(ServingThCount)\n",
    "    ServingThId=threading.Thread(target=ServingOrder,args=(Serving,NewCustomerId,))\n",
    "    ServingThId.start()\n",
    "    if ServingThId.isAlive():\n",
    "        ServingFlag=1\n",
    "        "
   ]
  },
  {
   "cell_type": "code",
   "execution_count": 166,
   "metadata": {
    "collapsed": false
   },
   "outputs": [],
   "source": [
    "def CheckOrder():\n",
    "    global OrderReady\n",
    "    time.sleep(2)\n",
    "    if OrderReady==1:\n",
    "        OrderReady=0\n",
    "        for i in range(len(RemovingQueue)):\n",
    "            print(\"removing\")\n",
    "            Manager.remove(RemovingQueue[-1])\n",
    "            RemovingQueue.pop(len(RemovingQueue)-1)"
   ]
  },
  {
   "cell_type": "code",
   "execution_count": 291,
   "metadata": {
    "collapsed": false
   },
   "outputs": [],
   "source": [
    "def CheckServingThread():\n",
    "    global ServingFlag\n",
    "    if ServingFlag==1 or OrderReady==1:\n",
    "        ServingFlag=0\n",
    "        Checkid=1\n",
    "        CheckThreadid=\"c\"+str(Checkid)\n",
    "        CheckThreadid=threading.Thread(target=CheckOrder,)\n",
    "        CheckThreadid.start()\n",
    "        Checkid+=1"
   ]
  },
  {
   "cell_type": "code",
   "execution_count": 293,
   "metadata": {
    "collapsed": false
   },
   "outputs": [],
   "source": [
    "def CheckCustomer():\n",
    "    global CustomerFlag \n",
    "    if CustomerFlag==1:\n",
    "        CustmerFlag=0\n",
    "        AddCustomerToClass(NewCustomerId,InterArrival,Serving)\n",
    "        InterArrivalTime()\n",
    "        ServingTime()\n",
    "        ServingThread(NewCustomerId,Serving)\n",
    "        CustomerThread(InterArrival)\n"
   ]
  },
  {
   "cell_type": "code",
   "execution_count": 294,
   "metadata": {
    "collapsed": false
   },
   "outputs": [],
   "source": [
    "def CheckCustomerThread():\n",
    "    count=1\n",
    "    thid=\"c\"+str(count)\n",
    "    thid=threading.Thread(target=CheckCustomer,)\n",
    "    thid.start()"
   ]
  },
  {
   "cell_type": "code",
   "execution_count": 304,
   "metadata": {
    "collapsed": false
   },
   "outputs": [
    {
     "name": "stdout",
     "output_type": "stream",
     "text": [
      "Added Customer5 to EntryQuoue\n",
      "New Customer Arrived with OrderId Customer5\n",
      "Added Customer5 to EntryQuoue\n",
      "New Customer Arrived with OrderId Customer6\n",
      "OrderServed for Customer3\n",
      "OrderServed for Customer3\n",
      "OrderServed for Customer5OrderServed for Customer5\n",
      "\n"
     ]
    }
   ],
   "source": [
    "FirstCustomer()\n",
    "AddFirstCustomerToClass()\n",
    "\n",
    "ServingTime()\n",
    "InterArrivalTime()\n",
    "AddFirstCustomerToClass(NewCustomerId,Serving)\n",
    "CustomerThread(InterArrival)\n",
    "ServingThread(NewCustomerId,Serving)\n",
    "CheckServingThread()\n",
    "CheckCustomerThread()"
   ]
  },
  {
   "cell_type": "code",
   "execution_count": 301,
   "metadata": {
    "collapsed": false
   },
   "outputs": [
    {
     "data": {
      "text/plain": [
       "['Customer1', 'Customer1']"
      ]
     },
     "execution_count": 301,
     "metadata": {},
     "output_type": "execute_result"
    }
   ],
   "source": [
    "RemovingQueue"
   ]
  },
  {
   "cell_type": "code",
   "execution_count": 302,
   "metadata": {
    "collapsed": false
   },
   "outputs": [
    {
     "data": {
      "text/plain": [
       "[16, 14]"
      ]
     },
     "execution_count": 302,
     "metadata": {},
     "output_type": "execute_result"
    }
   ],
   "source": [
    "ArrivalQueue"
   ]
  },
  {
   "cell_type": "code",
   "execution_count": 300,
   "metadata": {
    "collapsed": false
   },
   "outputs": [
    {
     "data": {
      "text/plain": [
       "['Customer1', 'Customer1']"
      ]
     },
     "execution_count": 300,
     "metadata": {},
     "output_type": "execute_result"
    }
   ],
   "source": [
    "EntryQueue"
   ]
  }
 ],
 "metadata": {
  "kernelspec": {
   "display_name": "Python [default]",
   "language": "python",
   "name": "python3"
  },
  "language_info": {
   "codemirror_mode": {
    "name": "ipython",
    "version": 3
   },
   "file_extension": ".py",
   "mimetype": "text/x-python",
   "name": "python",
   "nbconvert_exporter": "python",
   "pygments_lexer": "ipython3",
   "version": "3.5.2"
  }
 },
 "nbformat": 4,
 "nbformat_minor": 1
}
