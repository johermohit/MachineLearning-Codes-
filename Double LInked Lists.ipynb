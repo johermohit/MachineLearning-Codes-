{
 "cells": [
  {
   "cell_type": "code",
   "execution_count": 1,
   "metadata": {},
   "outputs": [],
   "source": [
    "import random"
   ]
  },
  {
   "cell_type": "code",
   "execution_count": 79,
   "metadata": {},
   "outputs": [],
   "source": [
    "class Node:\n",
    "    def __init__(self):\n",
    "        self.Prime=None\n",
    "        self.Rptr=None\n",
    "        self.Lptr=None\n"
   ]
  },
  {
   "cell_type": "code",
   "execution_count": 89,
   "metadata": {},
   "outputs": [],
   "source": [
    "def CreateNode(num):\n",
    "    CurrentNode=Node()\n",
    "    \n",
    "    CurrentNode.Prime=num\n",
    "    CurrentNode.Rptr=None\n",
    "    CurrentNode.Lptr=None\n",
    "    return CurrentNode\n",
    "    "
   ]
  },
  {
   "cell_type": "code",
   "execution_count": 90,
   "metadata": {},
   "outputs": [],
   "source": [
    "thisNode=CreateNode(7)"
   ]
  },
  {
   "cell_type": "code",
   "execution_count": 159,
   "metadata": {},
   "outputs": [],
   "source": [
    "RandomList=[5,4,2,1,3,6,8,9,7]\n",
    "# for i in range(100):\n",
    "#     RandomList.append(random.randint(100,1400))\n"
   ]
  },
  {
   "cell_type": "code",
   "execution_count": 211,
   "metadata": {},
   "outputs": [
    {
     "name": "stdout",
     "output_type": "stream",
     "text": [
      "the Node is Root Node 5 and Settled to Top\n",
      "the Node is 4 and Settled to Left\n",
      "the Node is 2 and Settled to Left\n",
      "the Node is 1 and Settled to Left\n",
      "the Node is 3 and Settled to right\n",
      "the Node is 6 and Settled to right\n",
      "the Node is 8 and Settled to right\n",
      "the Node is 9 and Settled to right\n",
      "the Node is 7 and Settled to Left\n"
     ]
    }
   ],
   "source": [
    "firstNode=Node()\n",
    "lastNode=Node()\n",
    "\n",
    "for i in RandomList:\n",
    "    if firstNode.Prime==None:\n",
    "        \n",
    "        CurrentNode=CreateNode(i)\n",
    "        print(\"the Node is Root Node\",CurrentNode.Prime,\"and Settled to Top\")\n",
    "        firstNode=CurrentNode\n",
    "        lastNode=CurrentNode\n",
    "    else:\n",
    "        CurrentNode=CreateNode(i)\n",
    "        if(CurrentNode.Prime>lastNode.Prime):\n",
    "            lastNode.Rptr=CurrentNode\n",
    "            print(\"the Node is\",CurrentNode.Prime,\"and Settled to right\")\n",
    "        else:\n",
    "            lastNode.Lptr=CurrentNode\n",
    "            print(\"the Node is\",CurrentNode.Prime,\"and Settled to Left\")\n",
    "        lastNode=CurrentNode\n"
   ]
  },
  {
   "cell_type": "code",
   "execution_count": 212,
   "metadata": {},
   "outputs": [],
   "source": [
    "a=firstNode\n"
   ]
  },
  {
   "cell_type": "code",
   "execution_count": 220,
   "metadata": {},
   "outputs": [
    {
     "name": "stdout",
     "output_type": "stream",
     "text": [
      "9\n"
     ]
    }
   ],
   "source": [
    "temp=firstnode\n",
    "print(temp.Lptr)\n"
   ]
  },
  {
   "cell_type": "code",
   "execution_count": 205,
   "metadata": {},
   "outputs": [
    {
     "ename": "AttributeError",
     "evalue": "'NoneType' object has no attribute 'Prime'",
     "output_type": "error",
     "traceback": [
      "\u001b[1;31m---------------------------------------------------------------------------\u001b[0m",
      "\u001b[1;31mAttributeError\u001b[0m                            Traceback (most recent call last)",
      "\u001b[1;32m<ipython-input-205-9ad0de581475>\u001b[0m in \u001b[0;36m<module>\u001b[1;34m()\u001b[0m\n\u001b[0;32m      1\u001b[0m \u001b[0ma\u001b[0m\u001b[1;33m=\u001b[0m\u001b[0ma\u001b[0m\u001b[1;33m.\u001b[0m\u001b[0mLptr\u001b[0m\u001b[1;33m\u001b[0m\u001b[0m\n\u001b[1;32m----> 2\u001b[1;33m \u001b[0mprint\u001b[0m\u001b[1;33m(\u001b[0m\u001b[0ma\u001b[0m\u001b[1;33m.\u001b[0m\u001b[0mPrime\u001b[0m\u001b[1;33m)\u001b[0m\u001b[1;33m\u001b[0m\u001b[0m\n\u001b[0m",
      "\u001b[1;31mAttributeError\u001b[0m: 'NoneType' object has no attribute 'Prime'"
     ]
    }
   ],
   "source": [
    "a=a.Lptr\n",
    "print(a.Prime)\n"
   ]
  },
  {
   "cell_type": "code",
   "execution_count": null,
   "metadata": {},
   "outputs": [],
   "source": []
  },
  {
   "cell_type": "code",
   "execution_count": 147,
   "metadata": {},
   "outputs": [],
   "source": [
    "def printList():\n",
    "    global firstNode\n",
    "    TempNode=firstNode\n",
    "    "
   ]
  },
  {
   "cell_type": "code",
   "execution_count": 99,
   "metadata": {},
   "outputs": [
    {
     "name": "stdout",
     "output_type": "stream",
     "text": [
      "6734\n"
     ]
    },
    {
     "ename": "AttributeError",
     "evalue": "'Node' object has no attribute 'ptr'",
     "output_type": "error",
     "traceback": [
      "\u001b[1;31m---------------------------------------------------------------------------\u001b[0m",
      "\u001b[1;31mAttributeError\u001b[0m                            Traceback (most recent call last)",
      "\u001b[1;32m<ipython-input-99-f5f4484771ae>\u001b[0m in \u001b[0;36m<module>\u001b[1;34m()\u001b[0m\n\u001b[1;32m----> 1\u001b[1;33m \u001b[0mprintList\u001b[0m\u001b[1;33m(\u001b[0m\u001b[1;33m)\u001b[0m\u001b[1;33m\u001b[0m\u001b[0m\n\u001b[0m",
      "\u001b[1;32m<ipython-input-98-6034b4111fc4>\u001b[0m in \u001b[0;36mprintList\u001b[1;34m()\u001b[0m\n\u001b[0;32m      4\u001b[0m     \u001b[1;32mwhile\u001b[0m\u001b[1;33m(\u001b[0m\u001b[0mTempNode\u001b[0m\u001b[1;33m)\u001b[0m\u001b[1;33m:\u001b[0m\u001b[1;33m\u001b[0m\u001b[0m\n\u001b[0;32m      5\u001b[0m         \u001b[0mprint\u001b[0m\u001b[1;33m(\u001b[0m\u001b[0mTempNode\u001b[0m\u001b[1;33m.\u001b[0m\u001b[0mPrime\u001b[0m\u001b[1;33m)\u001b[0m\u001b[1;33m\u001b[0m\u001b[0m\n\u001b[1;32m----> 6\u001b[1;33m         \u001b[0mTempNode\u001b[0m\u001b[1;33m=\u001b[0m\u001b[0mTempNode\u001b[0m\u001b[1;33m.\u001b[0m\u001b[0mptr\u001b[0m\u001b[1;33m\u001b[0m\u001b[0m\n\u001b[0m\u001b[0;32m      7\u001b[0m \u001b[1;33m\u001b[0m\u001b[0m\n",
      "\u001b[1;31mAttributeError\u001b[0m: 'Node' object has no attribute 'ptr'"
     ]
    }
   ],
   "source": [
    "printList()"
   ]
  }
 ],
 "metadata": {
  "kernelspec": {
   "display_name": "Python 3",
   "language": "python",
   "name": "python3"
  },
  "language_info": {
   "codemirror_mode": {
    "name": "ipython",
    "version": 3
   },
   "file_extension": ".py",
   "mimetype": "text/x-python",
   "name": "python",
   "nbconvert_exporter": "python",
   "pygments_lexer": "ipython3",
   "version": "3.6.5"
  }
 },
 "nbformat": 4,
 "nbformat_minor": 2
}
