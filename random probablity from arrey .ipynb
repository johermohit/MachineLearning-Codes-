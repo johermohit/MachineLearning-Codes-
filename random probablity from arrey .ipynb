{
 "cells": [
  {
   "cell_type": "code",
   "execution_count": 100,
   "metadata": {
    "collapsed": true
   },
   "outputs": [],
   "source": [
    "import random as rn\n",
    "import matplotlib.pyplot as plt \n"
   ]
  },
  {
   "cell_type": "code",
   "execution_count": 129,
   "metadata": {
    "collapsed": false
   },
   "outputs": [],
   "source": [
    "arrlen=100\n",
    "times=100\n",
    "def makearr(arrlen):\n",
    "    arrey=[]\n",
    "    for i in range (arrlen):\n",
    "        arrey.append(rn.randint(1,arrlen))\n",
    "        return(arrey)\n",
    "        \n",
    "def pick(arrlen):\n",
    "    index=rn.randint(1,arrlen)\n",
    "    return(arrey[index])\n",
    "\n",
    "    "
   ]
  },
  {
   "cell_type": "code",
   "execution_count": 133,
   "metadata": {
    "collapsed": false
   },
   "outputs": [
    {
     "data": {
      "text/plain": [
       "[3,\n",
       " 3,\n",
       " 6,\n",
       " 7,\n",
       " 7,\n",
       " 8,\n",
       " 10,\n",
       " 10,\n",
       " 11,\n",
       " 13,\n",
       " 21,\n",
       " 21,\n",
       " 22,\n",
       " 23,\n",
       " 23,\n",
       " 27,\n",
       " 29,\n",
       " 31,\n",
       " 32,\n",
       " 38,\n",
       " 38,\n",
       " 38,\n",
       " 40,\n",
       " 40,\n",
       " 42,\n",
       " 42,\n",
       " 42,\n",
       " 46,\n",
       " 47,\n",
       " 48,\n",
       " 53,\n",
       " 53,\n",
       " 53,\n",
       " 56,\n",
       " 56,\n",
       " 70,\n",
       " 75,\n",
       " 80,\n",
       " 94,\n",
       " 94,\n",
       " 94,\n",
       " 94,\n",
       " 95,\n",
       " 96,\n",
       " 96,\n",
       " 99,\n",
       " 99,\n",
       " 100,\n",
       " 103,\n",
       " 108,\n",
       " 108,\n",
       " 112,\n",
       " 121,\n",
       " 121,\n",
       " 121,\n",
       " 126,\n",
       " 127,\n",
       " 129,\n",
       " 129,\n",
       " 129,\n",
       " 129,\n",
       " 131,\n",
       " 131,\n",
       " 131,\n",
       " 151,\n",
       " 151,\n",
       " 151,\n",
       " 151,\n",
       " 160,\n",
       " 160,\n",
       " 162,\n",
       " 163,\n",
       " 168,\n",
       " 168,\n",
       " 171,\n",
       " 173,\n",
       " 174,\n",
       " 174,\n",
       " 175,\n",
       " 175,\n",
       " 176,\n",
       " 178,\n",
       " 183,\n",
       " 184,\n",
       " 184,\n",
       " 185,\n",
       " 185,\n",
       " 185,\n",
       " 192,\n",
       " 192,\n",
       " 195,\n",
       " 197,\n",
       " 197,\n",
       " 197,\n",
       " 197,\n",
       " 199,\n",
       " 199,\n",
       " 199,\n",
       " 199,\n",
       " 199]"
      ]
     },
     "execution_count": 133,
     "metadata": {},
     "output_type": "execute_result"
    }
   ],
   "source": [
    "values=[]\n",
    "for i in range (times):\n",
    "    values.append(pick(arrlen))\n",
    "values=(sorted(values))\n",
    "values\n"
   ]
  },
  {
   "cell_type": "code",
   "execution_count": 131,
   "metadata": {
    "collapsed": false
   },
   "outputs": [],
   "source": [
    "frequency =[]\n",
    "for i in range (0,len(values)):\n",
    "    frequency.append(0)\n"
   ]
  },
  {
   "cell_type": "code",
   "execution_count": 132,
   "metadata": {
    "collapsed": false
   },
   "outputs": [
    {
     "data": {
      "text/plain": [
       "[7,\n",
       " 7,\n",
       " 7,\n",
       " 7,\n",
       " 8,\n",
       " 11,\n",
       " 11,\n",
       " 40,\n",
       " 40,\n",
       " 46,\n",
       " 48,\n",
       " 51,\n",
       " 51,\n",
       " 60,\n",
       " 60,\n",
       " 70,\n",
       " 77,\n",
       " 77,\n",
       " 88,\n",
       " 88,\n",
       " 88,\n",
       " 96,\n",
       " 98,\n",
       " 99,\n",
       " 99,\n",
       " 100,\n",
       " 113,\n",
       " 121,\n",
       " 145,\n",
       " 147,\n",
       " 147,\n",
       " 162,\n",
       " 171,\n",
       " 171,\n",
       " 173,\n",
       " 177,\n",
       " 177,\n",
       " 178,\n",
       " 185,\n",
       " 185,\n",
       " 192,\n",
       " 195,\n",
       " 195,\n",
       " 197,\n",
       " 199,\n",
       " 199,\n",
       " 199,\n",
       " 199]"
      ]
     },
     "execution_count": 132,
     "metadata": {},
     "output_type": "execute_result"
    }
   ],
   "source": [
    "counter=0\n",
    "uniquerandomnumbers=[]\n",
    "for i in range(len(values)-1):\n",
    "    if values[i]!= values[i+1]:\n",
    "        print\n",
    "        counter+=1\n",
    "    else:\n",
    "        counter+=1\n",
    "        uniquerandomnumbers.append(values[i])\n",
    "uniquerandomnumbers.append(values[i])\n",
    "counter=0\n",
    "uniquerandomnumbers\n"
   ]
  },
  {
   "cell_type": "code",
   "execution_count": 105,
   "metadata": {
    "collapsed": false
   },
   "outputs": [
    {
     "data": {
      "text/plain": [
       "[63]"
      ]
     },
     "execution_count": 105,
     "metadata": {},
     "output_type": "execute_result"
    }
   ],
   "source": [
    "makearr(155)"
   ]
  },
  {
   "cell_type": "code",
   "execution_count": null,
   "metadata": {
    "collapsed": true
   },
   "outputs": [],
   "source": []
  },
  {
   "cell_type": "code",
   "execution_count": null,
   "metadata": {
    "collapsed": true
   },
   "outputs": [],
   "source": []
  },
  {
   "cell_type": "code",
   "execution_count": null,
   "metadata": {
    "collapsed": true
   },
   "outputs": [],
   "source": []
  }
 ],
 "metadata": {
  "kernelspec": {
   "display_name": "Python [default]",
   "language": "python",
   "name": "python3"
  },
  "language_info": {
   "codemirror_mode": {
    "name": "ipython",
    "version": 3
   },
   "file_extension": ".py",
   "mimetype": "text/x-python",
   "name": "python",
   "nbconvert_exporter": "python",
   "pygments_lexer": "ipython3",
   "version": "3.5.2"
  }
 },
 "nbformat": 4,
 "nbformat_minor": 1
}
