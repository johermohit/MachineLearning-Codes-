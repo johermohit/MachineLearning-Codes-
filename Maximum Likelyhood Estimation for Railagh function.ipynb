{
 "cells": [
  {
   "cell_type": "markdown",
   "metadata": {},
   "source": [
    "# The MLE for Relaigh comes out to be:\n"
   ]
  },
  {
   "cell_type": "markdown",
   "metadata": {},
   "source": [
    "$$\\vec \\sigma =\\sqrt { \\frac {1}{n}\\sum_{i=1}^n {\\frac {x^2}{2}}}$$"
   ]
  },
  {
   "cell_type": "code",
   "execution_count": 4,
   "metadata": {
    "collapsed": true
   },
   "outputs": [],
   "source": [
    "#NOw TAke N=30 repeted Sampling with MOde=20 using its"
   ]
  },
  {
   "cell_type": "code",
   "execution_count": 5,
   "metadata": {
    "collapsed": true
   },
   "outputs": [],
   "source": [
    "import random \n",
    "import math\n",
    "import matplotlib.pyplot as plt\n",
    "import numpy as np\n",
    "import statistics as st\n"
   ]
  },
  {
   "cell_type": "markdown",
   "metadata": {},
   "source": [
    "# Reyleigh inverse transform sampling:"
   ]
  },
  {
   "cell_type": "code",
   "execution_count": 6,
   "metadata": {
    "collapsed": true
   },
   "outputs": [],
   "source": [
    "def RrlaighPrameter(mode ,RVmin,Binsize):\n",
    "    global Mode\n",
    "    global MiniMumValueOfRV \n",
    "    global TotalBins\n",
    "    Mode = mode \n",
    "    MiniMumValueOfRV =RVmin\n",
    "    TotalBins =Binsize\n",
    " "
   ]
  },
  {
   "cell_type": "code",
   "execution_count": 7,
   "metadata": {
    "collapsed": true
   },
   "outputs": [],
   "source": [
    "def Genrate_Railagh(RVno):\n",
    "    RVValues = []\n",
    "    Probablity=[]\n",
    "    TotalNumberofValuesofRV =RVno\n",
    "    #here comes The Relaigh ITS \n",
    "    l = ((Mode)**2)\n",
    "    m = math.exp(-(((MiniMumValueOfRV)**2)/(2*l)))\n",
    "    \n",
    "    for i in range(0,TotalNumberofValuesofRV): #loop it for 30 \n",
    "\n",
    "        y = random.uniform(0,1)\n",
    "        Probablity.append(y)\n",
    "        \n",
    "        n = math.log((1/(m - y))**2)\n",
    "\n",
    "        K = math.sqrt((l * n))\n",
    "\n",
    "        RVValues.append(K)\n",
    "    return(RVValues) "
   ]
  },
  {
   "cell_type": "code",
   "execution_count": null,
   "metadata": {
    "collapsed": false
   },
   "outputs": [],
   "source": []
  },
  {
   "cell_type": "code",
   "execution_count": 8,
   "metadata": {
    "collapsed": false
   },
   "outputs": [],
   "source": [
    "#####Get the MAximum Likelyhood Estimation for Reilagh\n",
    "def Get_MLE(List):\n",
    "    summition=[]\n",
    "    n=len(List)\n",
    "    for x in List:\n",
    "        summition.append((x**2)/(2))\n",
    "    total=(sum(summition))\n",
    "    sigma=(math.sqrt(((1/len(List))*(total))))\n",
    "    return(sigma)"
   ]
  },
  {
   "cell_type": "code",
   "execution_count": 9,
   "metadata": {
    "collapsed": true
   },
   "outputs": [],
   "source": [
    "def Repeted_Samples(n):\n",
    "    RepetedSamplesModes=[]\n",
    "    for i in range(n):\n",
    "        RepetedSamplesModes.append((Get_MLE(Genrate_Railagh(30))))\n",
    "    return(RepetedSamplesModes)"
   ]
  },
  {
   "cell_type": "code",
   "execution_count": 10,
   "metadata": {
    "collapsed": false
   },
   "outputs": [],
   "source": [
    "def plotit(List):\n",
    "    RVValues=List\n",
    "    MaximumValueRV = max(RVValues)\n",
    "\n",
    "    MaximumValueRV = math.ceil(MaximumValueRV)\n",
    "\n",
    "    BinWidth = (MaximumValueRV - MiniMumValueOfRV)/TotalBins\n",
    "\n",
    "    Frequency = [0] * np.linspace(MiniMumValueOfRV,MaximumValueRV,TotalBins)\n",
    "\n",
    "    for i in range(0,len(RVValues)):\n",
    "\n",
    "        Frequency[math.floor((RVValues[i]-MiniMumValueOfRV)/BinWidth)] += 1\n",
    "    \n",
    "    XAxisValues = [1] * np.linspace(MiniMumValueOfRV,MaximumValueRV,TotalBins)\n",
    "    a=(Frequency/TotalNumberofValuesofRV)\n",
    "    plt.bar(XAxisValues,a,BinWidth)\n",
    "    return(plt.show())"
   ]
  },
  {
   "cell_type": "markdown",
   "metadata": {},
   "source": [
    "# Here Comes the Sampling"
   ]
  },
  {
   "cell_type": "code",
   "execution_count": 11,
   "metadata": {
    "collapsed": false
   },
   "outputs": [
    {
     "name": "stdout",
     "output_type": "stream",
     "text": [
      "MLE FOR #30 is 28.906529872029523\n",
      "MLE FOR #30000 is 30.006693847430327\n"
     ]
    },
    {
     "ename": "NameError",
     "evalue": "name 'TotalNumberofValuesofRV' is not defined",
     "output_type": "error",
     "traceback": [
      "\u001b[0;31m---------------------------------------------------------------------------\u001b[0m",
      "\u001b[0;31mNameError\u001b[0m                                 Traceback (most recent call last)",
      "\u001b[0;32m<ipython-input-11-d988522c06c3>\u001b[0m in \u001b[0;36m<module>\u001b[0;34m()\u001b[0m\n\u001b[1;32m      5\u001b[0m \u001b[1;33m\u001b[0m\u001b[0m\n\u001b[1;32m      6\u001b[0m \u001b[0mprint\u001b[0m\u001b[1;33m(\u001b[0m\u001b[1;34m\"MLE FOR #30000 is {}\"\u001b[0m\u001b[1;33m.\u001b[0m\u001b[0mformat\u001b[0m\u001b[1;33m(\u001b[0m\u001b[0mGet_MLE\u001b[0m\u001b[1;33m(\u001b[0m\u001b[0mGenrate_Railagh\u001b[0m\u001b[1;33m(\u001b[0m\u001b[1;36m30000\u001b[0m\u001b[1;33m)\u001b[0m\u001b[1;33m)\u001b[0m\u001b[1;33m)\u001b[0m\u001b[1;33m)\u001b[0m\u001b[1;33m\u001b[0m\u001b[0m\n\u001b[0;32m----> 7\u001b[0;31m \u001b[0mplotit\u001b[0m\u001b[1;33m(\u001b[0m\u001b[0mGenrate_Railagh\u001b[0m\u001b[1;33m(\u001b[0m\u001b[1;36m30000\u001b[0m\u001b[1;33m)\u001b[0m\u001b[1;33m)\u001b[0m\u001b[1;33m\u001b[0m\u001b[0m\n\u001b[0m",
      "\u001b[0;32m<ipython-input-10-79422038cdd1>\u001b[0m in \u001b[0;36mplotit\u001b[0;34m(List)\u001b[0m\n\u001b[1;32m     14\u001b[0m \u001b[1;33m\u001b[0m\u001b[0m\n\u001b[1;32m     15\u001b[0m     \u001b[0mXAxisValues\u001b[0m \u001b[1;33m=\u001b[0m \u001b[1;33m[\u001b[0m\u001b[1;36m1\u001b[0m\u001b[1;33m]\u001b[0m \u001b[1;33m*\u001b[0m \u001b[0mnp\u001b[0m\u001b[1;33m.\u001b[0m\u001b[0mlinspace\u001b[0m\u001b[1;33m(\u001b[0m\u001b[0mMiniMumValueOfRV\u001b[0m\u001b[1;33m,\u001b[0m\u001b[0mMaximumValueRV\u001b[0m\u001b[1;33m,\u001b[0m\u001b[0mTotalBins\u001b[0m\u001b[1;33m)\u001b[0m\u001b[1;33m\u001b[0m\u001b[0m\n\u001b[0;32m---> 16\u001b[0;31m     \u001b[0ma\u001b[0m\u001b[1;33m=\u001b[0m\u001b[1;33m(\u001b[0m\u001b[0mFrequency\u001b[0m\u001b[1;33m/\u001b[0m\u001b[0mTotalNumberofValuesofRV\u001b[0m\u001b[1;33m)\u001b[0m\u001b[1;33m\u001b[0m\u001b[0m\n\u001b[0m\u001b[1;32m     17\u001b[0m     \u001b[0mplt\u001b[0m\u001b[1;33m.\u001b[0m\u001b[0mbar\u001b[0m\u001b[1;33m(\u001b[0m\u001b[0mXAxisValues\u001b[0m\u001b[1;33m,\u001b[0m\u001b[0ma\u001b[0m\u001b[1;33m,\u001b[0m\u001b[0mBinWidth\u001b[0m\u001b[1;33m)\u001b[0m\u001b[1;33m\u001b[0m\u001b[0m\n\u001b[1;32m     18\u001b[0m     \u001b[1;32mreturn\u001b[0m\u001b[1;33m(\u001b[0m\u001b[0mplt\u001b[0m\u001b[1;33m.\u001b[0m\u001b[0mshow\u001b[0m\u001b[1;33m(\u001b[0m\u001b[1;33m)\u001b[0m\u001b[1;33m)\u001b[0m\u001b[1;33m\u001b[0m\u001b[0m\n",
      "\u001b[0;31mNameError\u001b[0m: name 'TotalNumberofValuesofRV' is not defined"
     ]
    }
   ],
   "source": [
    "#Set PArameter (mode, min , binwidth)\n",
    "RrlaighPrameter(30,0,35)\n",
    "\n",
    "print(\"MLE FOR #30 is {}\".format(Get_MLE(Genrate_Railagh(30))))\n",
    "\n",
    "print(\"MLE FOR #30000 is {}\".format(Get_MLE(Genrate_Railagh(30000))))\n",
    "plotit(Genrate_Railagh(30000))"
   ]
  },
  {
   "cell_type": "markdown",
   "metadata": {
    "collapsed": true
   },
   "source": [
    "# sampling distribution shows"
   ]
  },
  {
   "cell_type": "code",
   "execution_count": null,
   "metadata": {
    "collapsed": false
   },
   "outputs": [],
   "source": [
    "plotit(Repeted_Samples(1000))"
   ]
  },
  {
   "cell_type": "code",
   "execution_count": null,
   "metadata": {
    "collapsed": false
   },
   "outputs": [],
   "source": [
    "#do Repeted Sampling until(1000) thn AVERAGE it \n",
    "ManyModes=[]\n",
    "ManyModes=Repeted_Samples(1000)\n",
    "Final=(sum(ManyModes)/(1000))\n",
    "print(\"The Mle Mode is {0} While The MODE used is {1}\".format(Final,Mode))\n",
    "print(\"So Error is = {}\".format(Mode-Final))"
   ]
  },
  {
   "cell_type": "markdown",
   "metadata": {},
   "source": [
    "# Prove its MVUEstimator\n",
    "## as the Error is 0.3 its Unbaised\n",
    "\n"
   ]
  },
  {
   "cell_type": "markdown",
   "metadata": {},
   "source": [
    "## For 95% confidence interval for Large sample size N=30"
   ]
  },
  {
   "cell_type": "markdown",
   "metadata": {},
   "source": [
    "$$ Confidence\\space Interval= \\vec x \\pm Z\\frac{s_{sample}}{\\sqrt{n}} $$\n"
   ]
  },
  {
   "cell_type": "code",
   "execution_count": null,
   "metadata": {
    "collapsed": false
   },
   "outputs": [],
   "source": [
    "sample=(Genrate_Railagh(40))\n",
    "SampleMean=(sum(sample)/40)\n",
    "StdDeviation=(st.stdev(sample,SampleMean))\n"
   ]
  },
  {
   "cell_type": "code",
   "execution_count": null,
   "metadata": {
    "collapsed": false
   },
   "outputs": [],
   "source": [
    "StdDeviation"
   ]
  },
  {
   "cell_type": "code",
   "execution_count": null,
   "metadata": {
    "collapsed": false
   },
   "outputs": [],
   "source": [
    "# for ss=95% Z=1.96\n",
    "minimum=SampleMean-((1.96*(StdDeviation))/(math.sqrt(40)))\n",
    "maximum=SampleMean+((1.96*(StdDeviation))/(math.sqrt(40)))\n",
    "print(\"As Min={} and  Max={} while Our MEAN is {}\".format(minimum,maximum,Final))\n",
    "print (\" It Does not Comes in 95% cofidence interval \" )\n"
   ]
  },
  {
   "cell_type": "markdown",
   "metadata": {
    "collapsed": true
   },
   "source": []
  },
  {
   "cell_type": "markdown",
   "metadata": {},
   "source": [
    "## Now for small Samples\n",
    "### t-TABLE  FOR  95%\n",
    "$$ Confidence\\space Interval= \\vec x \\pm T\\frac{s_{sample}}{\\sqrt{n}} $$\n",
    "\n",
    "|N  |    T |\n",
    "|------|------|\n",
    "|   5  | 2.571|\n",
    "|   6  | 2.447|\n",
    "|   7  | 2.365|        \n",
    "\n"
   ]
  },
  {
   "cell_type": "markdown",
   "metadata": {},
   "source": [
    "t-distribution"
   ]
  },
  {
   "cell_type": "code",
   "execution_count": null,
   "metadata": {
    "collapsed": false
   },
   "outputs": [],
   "source": [
    "def SmallSample(SampleSize,t):\n",
    "    smallSample=(Genrate_Railagh(SampleSize))\n",
    "    smallSampleMean=(sum(smallSample)/len(smallSample))\n",
    "    smallStdDeviation=(st.stdev(sample,sampleMean))\n",
    "    smin=smallSampleMean-((((t))*(smallStdDeviation))/(math.sqrt(SampleSize)))\n",
    "    smax=smallSampleMean+((t*(smallStdDeviation))/(math.sqrt(SampleSize)))\n",
    "    return((\"For sample size {} Min={}< {} < Max={}\".format(SampleSize,smin,Final,smax)))"
   ]
  },
  {
   "cell_type": "code",
   "execution_count": null,
   "metadata": {
    "collapsed": false
   },
   "outputs": [],
   "source": [
    "print(SmallSample(5,2.571))\n",
    "print(SmallSample(6,2.447))\n",
    "print(SmallSample(7,2.365))"
   ]
  },
  {
   "cell_type": "markdown",
   "metadata": {},
   "source": [
    "#### in Here Student T-Disgtributon  will not make Sence  Much sense as For Small Sample Size We are in 95% cofidence interlval"
   ]
  }
 ],
 "metadata": {
  "anaconda-cloud": {},
  "kernelspec": {
   "display_name": "Python [default]",
   "language": "python",
   "name": "python3"
  },
  "language_info": {
   "codemirror_mode": {
    "name": "ipython",
    "version": 3
   },
   "file_extension": ".py",
   "mimetype": "text/x-python",
   "name": "python",
   "nbconvert_exporter": "python",
   "pygments_lexer": "ipython3",
   "version": "3.5.2"
  }
 },
 "nbformat": 4,
 "nbformat_minor": 1
}
