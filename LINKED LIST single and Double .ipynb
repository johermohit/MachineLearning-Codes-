{
 "cells": [
  {
   "cell_type": "code",
   "execution_count": 60,
   "metadata": {
    "collapsed": true
   },
   "outputs": [],
   "source": [
    "#To generate 1000 numbers and put all the prime numbers into a linked list\n",
    "\n",
    "import numpy as np\n",
    "import random"
   ]
  },
  {
   "cell_type": "code",
   "execution_count": 61,
   "metadata": {
    "collapsed": true
   },
   "outputs": [],
   "source": [
    "class Node:\n",
    "    \n",
    "    def __init__(self):\n",
    "        self.Prime = None \n",
    "        self.Ptr = None"
   ]
  },
  {
   "cell_type": "code",
   "execution_count": 62,
   "metadata": {
    "collapsed": true
   },
   "outputs": [],
   "source": [
    "Nums = []\n",
    "for i in range(0,100):\n",
    "    Nums.append(random.randint(101,1001))"
   ]
  },
  {
   "cell_type": "code",
   "execution_count": null,
   "metadata": {
    "collapsed": false
   },
   "outputs": [],
   "source": []
  },
  {
   "cell_type": "markdown",
   "metadata": {},
   "source": [
    "## Getting Prime Numbers Out of Nums List"
   ]
  },
  {
   "cell_type": "code",
   "execution_count": 1,
   "metadata": {
    "collapsed": false
   },
   "outputs": [],
   "source": [
    "def FindPrime(Nums):\n",
    "    prime=set()\n",
    "    for j in range(100):\n",
    "        for i in range (2,Nums[j]):\n",
    "            if (Nums[j]%i)==0:\n",
    "                break\n",
    "            else:\n",
    "                prime.add(Nums[j])\n",
    "    return(prime)"
   ]
  },
  {
   "cell_type": "markdown",
   "metadata": {},
   "source": [
    "## Creating a New Node By Passing a Prime Number"
   ]
  },
  {
   "cell_type": "code",
   "execution_count": 64,
   "metadata": {
    "collapsed": true
   },
   "outputs": [],
   "source": [
    "def CreateNode(prime):\n",
    "    CurrentNode = Node()\n",
    "    return CurrentNode "
   ]
  },
  {
   "cell_type": "code",
   "execution_count": null,
   "metadata": {
    "collapsed": false
   },
   "outputs": [],
   "source": []
  },
  {
   "cell_type": "code",
   "execution_count": 65,
   "metadata": {
    "collapsed": false
   },
   "outputs": [
    {
     "name": "stdout",
     "output_type": "stream",
     "text": [
      "node Created @ <__main__.Node object at 0x00000228FD2692B0>\n",
      "------Very First Node-------\n",
      "Number is 899\n",
      "Current ptr = None\n",
      "Last Node@ <__main__.Node object at 0x00000228FD2692B0>\n",
      "First Node@ <__main__.Node object at 0x00000228FD2692B0>\n",
      "last Node@ 899\n",
      "node Created @ <__main__.Node object at 0x00000228FD269710>\n",
      "Current Node Address= <__main__.Node object at 0x00000228FD269710>\n",
      "Current ptr=== None\n",
      "LastNode ptr= <__main__.Node object at 0x00000228FD269710>\n",
      "now the Last Node@ <__main__.Node object at 0x00000228FD269710>\n",
      "\n",
      "node Created @ <__main__.Node object at 0x00000228FD2698D0>\n",
      "Current Node Address= <__main__.Node object at 0x00000228FD2698D0>\n",
      "Current ptr=== None\n",
      "LastNode ptr= <__main__.Node object at 0x00000228FD2698D0>\n",
      "now the Last Node@ <__main__.Node object at 0x00000228FD2698D0>\n",
      "\n",
      "node Created @ <__main__.Node object at 0x00000228FD269A90>\n",
      "Current Node Address= <__main__.Node object at 0x00000228FD269A90>\n",
      "Current ptr=== None\n",
      "LastNode ptr= <__main__.Node object at 0x00000228FD269A90>\n",
      "now the Last Node@ <__main__.Node object at 0x00000228FD269A90>\n",
      "\n",
      "node Created @ <__main__.Node object at 0x00000228FD252EF0>\n",
      "Current Node Address= <__main__.Node object at 0x00000228FD252EF0>\n",
      "Current ptr=== None\n",
      "LastNode ptr= <__main__.Node object at 0x00000228FD252EF0>\n",
      "now the Last Node@ <__main__.Node object at 0x00000228FD252EF0>\n",
      "\n",
      "node Created @ <__main__.Node object at 0x00000228FD1B9AC8>\n",
      "Current Node Address= <__main__.Node object at 0x00000228FD1B9AC8>\n",
      "Current ptr=== None\n",
      "LastNode ptr= <__main__.Node object at 0x00000228FD1B9AC8>\n",
      "now the Last Node@ <__main__.Node object at 0x00000228FD1B9AC8>\n",
      "\n",
      "node Created @ <__main__.Node object at 0x00000228FD1B99B0>\n",
      "Current Node Address= <__main__.Node object at 0x00000228FD1B99B0>\n",
      "Current ptr=== None\n",
      "LastNode ptr= <__main__.Node object at 0x00000228FD1B99B0>\n",
      "now the Last Node@ <__main__.Node object at 0x00000228FD1B99B0>\n",
      "\n",
      "node Created @ <__main__.Node object at 0x00000228FD1CDC50>\n",
      "Current Node Address= <__main__.Node object at 0x00000228FD1CDC50>\n",
      "Current ptr=== None\n",
      "LastNode ptr= <__main__.Node object at 0x00000228FD1CDC50>\n",
      "now the Last Node@ <__main__.Node object at 0x00000228FD1CDC50>\n",
      "\n",
      "node Created @ <__main__.Node object at 0x00000228FD1CDFD0>\n",
      "Current Node Address= <__main__.Node object at 0x00000228FD1CDFD0>\n",
      "Current ptr=== None\n",
      "LastNode ptr= <__main__.Node object at 0x00000228FD1CDFD0>\n",
      "now the Last Node@ <__main__.Node object at 0x00000228FD1CDFD0>\n",
      "\n",
      "node Created @ <__main__.Node object at 0x00000228FD1CD6A0>\n",
      "Current Node Address= <__main__.Node object at 0x00000228FD1CD6A0>\n",
      "Current ptr=== None\n",
      "LastNode ptr= <__main__.Node object at 0x00000228FD1CD6A0>\n",
      "now the Last Node@ <__main__.Node object at 0x00000228FD1CD6A0>\n",
      "\n",
      "node Created @ <__main__.Node object at 0x00000228FD1CDBE0>\n",
      "Current Node Address= <__main__.Node object at 0x00000228FD1CDBE0>\n",
      "Current ptr=== None\n",
      "LastNode ptr= <__main__.Node object at 0x00000228FD1CDBE0>\n",
      "now the Last Node@ <__main__.Node object at 0x00000228FD1CDBE0>\n",
      "\n",
      "node Created @ <__main__.Node object at 0x00000228FD1CD208>\n",
      "Current Node Address= <__main__.Node object at 0x00000228FD1CD208>\n",
      "Current ptr=== None\n",
      "LastNode ptr= <__main__.Node object at 0x00000228FD1CD208>\n",
      "now the Last Node@ <__main__.Node object at 0x00000228FD1CD208>\n",
      "\n",
      "node Created @ <__main__.Node object at 0x00000228FD1CD240>\n",
      "Current Node Address= <__main__.Node object at 0x00000228FD1CD240>\n",
      "Current ptr=== None\n",
      "LastNode ptr= <__main__.Node object at 0x00000228FD1CD240>\n",
      "now the Last Node@ <__main__.Node object at 0x00000228FD1CD240>\n",
      "\n",
      "node Created @ <__main__.Node object at 0x00000228FD1CDCF8>\n",
      "Current Node Address= <__main__.Node object at 0x00000228FD1CDCF8>\n",
      "Current ptr=== None\n",
      "LastNode ptr= <__main__.Node object at 0x00000228FD1CDCF8>\n",
      "now the Last Node@ <__main__.Node object at 0x00000228FD1CDCF8>\n",
      "\n",
      "node Created @ <__main__.Node object at 0x00000228FD1CD978>\n",
      "Current Node Address= <__main__.Node object at 0x00000228FD1CD978>\n",
      "Current ptr=== None\n",
      "LastNode ptr= <__main__.Node object at 0x00000228FD1CD978>\n",
      "now the Last Node@ <__main__.Node object at 0x00000228FD1CD978>\n",
      "\n",
      "node Created @ <__main__.Node object at 0x00000228FD1CDC88>\n",
      "Current Node Address= <__main__.Node object at 0x00000228FD1CDC88>\n",
      "Current ptr=== None\n",
      "LastNode ptr= <__main__.Node object at 0x00000228FD1CDC88>\n",
      "now the Last Node@ <__main__.Node object at 0x00000228FD1CDC88>\n",
      "\n",
      "node Created @ <__main__.Node object at 0x00000228FD1CDDA0>\n",
      "Current Node Address= <__main__.Node object at 0x00000228FD1CDDA0>\n",
      "Current ptr=== None\n",
      "LastNode ptr= <__main__.Node object at 0x00000228FD1CDDA0>\n",
      "now the Last Node@ <__main__.Node object at 0x00000228FD1CDDA0>\n",
      "\n",
      "node Created @ <__main__.Node object at 0x00000228FD1CD390>\n",
      "Current Node Address= <__main__.Node object at 0x00000228FD1CD390>\n",
      "Current ptr=== None\n",
      "LastNode ptr= <__main__.Node object at 0x00000228FD1CD390>\n",
      "now the Last Node@ <__main__.Node object at 0x00000228FD1CD390>\n",
      "\n",
      "node Created @ <__main__.Node object at 0x00000228FD1CD710>\n",
      "Current Node Address= <__main__.Node object at 0x00000228FD1CD710>\n",
      "Current ptr=== None\n",
      "LastNode ptr= <__main__.Node object at 0x00000228FD1CD710>\n",
      "now the Last Node@ <__main__.Node object at 0x00000228FD1CD710>\n",
      "\n",
      "node Created @ <__main__.Node object at 0x00000228FD1CDA90>\n",
      "Current Node Address= <__main__.Node object at 0x00000228FD1CDA90>\n",
      "Current ptr=== None\n",
      "LastNode ptr= <__main__.Node object at 0x00000228FD1CDA90>\n",
      "now the Last Node@ <__main__.Node object at 0x00000228FD1CDA90>\n",
      "\n",
      "node Created @ <__main__.Node object at 0x00000228FD27E6D8>\n",
      "Current Node Address= <__main__.Node object at 0x00000228FD27E6D8>\n",
      "Current ptr=== None\n",
      "LastNode ptr= <__main__.Node object at 0x00000228FD27E6D8>\n",
      "now the Last Node@ <__main__.Node object at 0x00000228FD27E6D8>\n",
      "\n",
      "node Created @ <__main__.Node object at 0x00000228FD27E748>\n",
      "Current Node Address= <__main__.Node object at 0x00000228FD27E748>\n",
      "Current ptr=== None\n",
      "LastNode ptr= <__main__.Node object at 0x00000228FD27E748>\n",
      "now the Last Node@ <__main__.Node object at 0x00000228FD27E748>\n",
      "\n",
      "node Created @ <__main__.Node object at 0x00000228FD27E7B8>\n",
      "Current Node Address= <__main__.Node object at 0x00000228FD27E7B8>\n",
      "Current ptr=== None\n",
      "LastNode ptr= <__main__.Node object at 0x00000228FD27E7B8>\n",
      "now the Last Node@ <__main__.Node object at 0x00000228FD27E7B8>\n",
      "\n",
      "node Created @ <__main__.Node object at 0x00000228FD27E828>\n",
      "Current Node Address= <__main__.Node object at 0x00000228FD27E828>\n",
      "Current ptr=== None\n",
      "LastNode ptr= <__main__.Node object at 0x00000228FD27E828>\n",
      "now the Last Node@ <__main__.Node object at 0x00000228FD27E828>\n",
      "\n",
      "node Created @ <__main__.Node object at 0x00000228FD27E898>\n",
      "Current Node Address= <__main__.Node object at 0x00000228FD27E898>\n",
      "Current ptr=== None\n",
      "LastNode ptr= <__main__.Node object at 0x00000228FD27E898>\n",
      "now the Last Node@ <__main__.Node object at 0x00000228FD27E898>\n",
      "\n",
      "node Created @ <__main__.Node object at 0x00000228FD27E908>\n",
      "Current Node Address= <__main__.Node object at 0x00000228FD27E908>\n",
      "Current ptr=== None\n",
      "LastNode ptr= <__main__.Node object at 0x00000228FD27E908>\n",
      "now the Last Node@ <__main__.Node object at 0x00000228FD27E908>\n",
      "\n",
      "node Created @ <__main__.Node object at 0x00000228FD27E978>\n",
      "Current Node Address= <__main__.Node object at 0x00000228FD27E978>\n",
      "Current ptr=== None\n",
      "LastNode ptr= <__main__.Node object at 0x00000228FD27E978>\n",
      "now the Last Node@ <__main__.Node object at 0x00000228FD27E978>\n",
      "\n",
      "node Created @ <__main__.Node object at 0x00000228FD27E9E8>\n",
      "Current Node Address= <__main__.Node object at 0x00000228FD27E9E8>\n",
      "Current ptr=== None\n",
      "LastNode ptr= <__main__.Node object at 0x00000228FD27E9E8>\n",
      "now the Last Node@ <__main__.Node object at 0x00000228FD27E9E8>\n",
      "\n",
      "node Created @ <__main__.Node object at 0x00000228FD27EC50>\n",
      "Current Node Address= <__main__.Node object at 0x00000228FD27EC50>\n",
      "Current ptr=== None\n",
      "LastNode ptr= <__main__.Node object at 0x00000228FD27EC50>\n",
      "now the Last Node@ <__main__.Node object at 0x00000228FD27EC50>\n",
      "\n",
      "node Created @ <__main__.Node object at 0x00000228FD27EA58>\n",
      "Current Node Address= <__main__.Node object at 0x00000228FD27EA58>\n",
      "Current ptr=== None\n",
      "LastNode ptr= <__main__.Node object at 0x00000228FD27EA58>\n",
      "now the Last Node@ <__main__.Node object at 0x00000228FD27EA58>\n",
      "\n",
      "node Created @ <__main__.Node object at 0x00000228FD27ECC0>\n",
      "Current Node Address= <__main__.Node object at 0x00000228FD27ECC0>\n",
      "Current ptr=== None\n",
      "LastNode ptr= <__main__.Node object at 0x00000228FD27ECC0>\n",
      "now the Last Node@ <__main__.Node object at 0x00000228FD27ECC0>\n",
      "\n",
      "node Created @ <__main__.Node object at 0x00000228FD27ED68>\n",
      "Current Node Address= <__main__.Node object at 0x00000228FD27ED68>\n",
      "Current ptr=== None\n",
      "LastNode ptr= <__main__.Node object at 0x00000228FD27ED68>\n",
      "now the Last Node@ <__main__.Node object at 0x00000228FD27ED68>\n",
      "\n",
      "node Created @ <__main__.Node object at 0x00000228FD27EEF0>\n",
      "Current Node Address= <__main__.Node object at 0x00000228FD27EEF0>\n",
      "Current ptr=== None\n",
      "LastNode ptr= <__main__.Node object at 0x00000228FD27EEF0>\n",
      "now the Last Node@ <__main__.Node object at 0x00000228FD27EEF0>\n",
      "\n",
      "node Created @ <__main__.Node object at 0x00000228FD27EF60>\n",
      "Current Node Address= <__main__.Node object at 0x00000228FD27EF60>\n",
      "Current ptr=== None\n",
      "LastNode ptr= <__main__.Node object at 0x00000228FD27EF60>\n",
      "now the Last Node@ <__main__.Node object at 0x00000228FD27EF60>\n",
      "\n",
      "node Created @ <__main__.Node object at 0x00000228FD27EFD0>\n",
      "Current Node Address= <__main__.Node object at 0x00000228FD27EFD0>\n",
      "Current ptr=== None\n",
      "LastNode ptr= <__main__.Node object at 0x00000228FD27EFD0>\n",
      "now the Last Node@ <__main__.Node object at 0x00000228FD27EFD0>\n",
      "\n",
      "node Created @ <__main__.Node object at 0x00000228FD27F080>\n",
      "Current Node Address= <__main__.Node object at 0x00000228FD27F080>\n",
      "Current ptr=== None\n",
      "LastNode ptr= <__main__.Node object at 0x00000228FD27F080>\n",
      "now the Last Node@ <__main__.Node object at 0x00000228FD27F080>\n",
      "\n",
      "node Created @ <__main__.Node object at 0x00000228FD27F0F0>\n",
      "Current Node Address= <__main__.Node object at 0x00000228FD27F0F0>\n",
      "Current ptr=== None\n",
      "LastNode ptr= <__main__.Node object at 0x00000228FD27F0F0>\n",
      "now the Last Node@ <__main__.Node object at 0x00000228FD27F0F0>\n",
      "\n",
      "node Created @ <__main__.Node object at 0x00000228FD27F160>\n",
      "Current Node Address= <__main__.Node object at 0x00000228FD27F160>\n",
      "Current ptr=== None\n",
      "LastNode ptr= <__main__.Node object at 0x00000228FD27F160>\n",
      "now the Last Node@ <__main__.Node object at 0x00000228FD27F160>\n",
      "\n",
      "node Created @ <__main__.Node object at 0x00000228FD27F1D0>\n",
      "Current Node Address= <__main__.Node object at 0x00000228FD27F1D0>\n",
      "Current ptr=== None\n",
      "LastNode ptr= <__main__.Node object at 0x00000228FD27F1D0>\n",
      "now the Last Node@ <__main__.Node object at 0x00000228FD27F1D0>\n",
      "\n",
      "node Created @ <__main__.Node object at 0x00000228FD27F240>\n",
      "Current Node Address= <__main__.Node object at 0x00000228FD27F240>\n",
      "Current ptr=== None\n",
      "LastNode ptr= <__main__.Node object at 0x00000228FD27F240>\n",
      "now the Last Node@ <__main__.Node object at 0x00000228FD27F240>\n",
      "\n",
      "node Created @ <__main__.Node object at 0x00000228FD27F2B0>\n",
      "Current Node Address= <__main__.Node object at 0x00000228FD27F2B0>\n",
      "Current ptr=== None\n",
      "LastNode ptr= <__main__.Node object at 0x00000228FD27F2B0>\n",
      "now the Last Node@ <__main__.Node object at 0x00000228FD27F2B0>\n",
      "\n",
      "node Created @ <__main__.Node object at 0x00000228FD27F320>\n",
      "Current Node Address= <__main__.Node object at 0x00000228FD27F320>\n",
      "Current ptr=== None\n",
      "LastNode ptr= <__main__.Node object at 0x00000228FD27F320>\n",
      "now the Last Node@ <__main__.Node object at 0x00000228FD27F320>\n",
      "\n",
      "node Created @ <__main__.Node object at 0x00000228FD27F390>\n",
      "Current Node Address= <__main__.Node object at 0x00000228FD27F390>\n",
      "Current ptr=== None\n",
      "LastNode ptr= <__main__.Node object at 0x00000228FD27F390>\n",
      "now the Last Node@ <__main__.Node object at 0x00000228FD27F390>\n",
      "\n",
      "node Created @ <__main__.Node object at 0x00000228FD27F400>\n",
      "Current Node Address= <__main__.Node object at 0x00000228FD27F400>\n",
      "Current ptr=== None\n",
      "LastNode ptr= <__main__.Node object at 0x00000228FD27F400>\n",
      "now the Last Node@ <__main__.Node object at 0x00000228FD27F400>\n",
      "\n",
      "node Created @ <__main__.Node object at 0x00000228FD27F470>\n",
      "Current Node Address= <__main__.Node object at 0x00000228FD27F470>\n",
      "Current ptr=== None\n",
      "LastNode ptr= <__main__.Node object at 0x00000228FD27F470>\n",
      "now the Last Node@ <__main__.Node object at 0x00000228FD27F470>\n",
      "\n",
      "node Created @ <__main__.Node object at 0x00000228FD27F4E0>\n",
      "Current Node Address= <__main__.Node object at 0x00000228FD27F4E0>\n",
      "Current ptr=== None\n",
      "LastNode ptr= <__main__.Node object at 0x00000228FD27F4E0>\n",
      "now the Last Node@ <__main__.Node object at 0x00000228FD27F4E0>\n",
      "\n",
      "node Created @ <__main__.Node object at 0x00000228FD27F550>\n",
      "Current Node Address= <__main__.Node object at 0x00000228FD27F550>\n",
      "Current ptr=== None\n",
      "LastNode ptr= <__main__.Node object at 0x00000228FD27F550>\n",
      "now the Last Node@ <__main__.Node object at 0x00000228FD27F550>\n",
      "\n",
      "node Created @ <__main__.Node object at 0x00000228FD27F5C0>\n",
      "Current Node Address= <__main__.Node object at 0x00000228FD27F5C0>\n",
      "Current ptr=== None\n",
      "LastNode ptr= <__main__.Node object at 0x00000228FD27F5C0>\n",
      "now the Last Node@ <__main__.Node object at 0x00000228FD27F5C0>\n",
      "\n",
      "node Created @ <__main__.Node object at 0x00000228FD27F630>\n",
      "Current Node Address= <__main__.Node object at 0x00000228FD27F630>\n",
      "Current ptr=== None\n",
      "LastNode ptr= <__main__.Node object at 0x00000228FD27F630>\n",
      "now the Last Node@ <__main__.Node object at 0x00000228FD27F630>\n",
      "\n",
      "node Created @ <__main__.Node object at 0x00000228FD27F6A0>\n",
      "Current Node Address= <__main__.Node object at 0x00000228FD27F6A0>\n",
      "Current ptr=== None\n",
      "LastNode ptr= <__main__.Node object at 0x00000228FD27F6A0>\n",
      "now the Last Node@ <__main__.Node object at 0x00000228FD27F6A0>\n",
      "\n"
     ]
    }
   ],
   "source": [
    "LastNode = Node()\n",
    "FirstNode = Node ()\n",
    "PrimeList=FindPrime(Nums)\n",
    "for i in PrimeList:\n",
    "    \n",
    "    CurrentNode=CreateNode(i)\n",
    "    print(\"node Created @\",CurrentNode)\n",
    "        \n",
    "    if LastNode.Prime == None and LastNode.Ptr == None:\n",
    "        print(\"------Very First Node-------\")\n",
    "#             //Check If its the Very First Node\n",
    "        CurrentNode.Prime = i \n",
    "        print(\"Number is\",CurrentNode.Prime)\n",
    "#     // Add Prime Numbers to Middle \n",
    "        CurrentNode.Ptr = None\n",
    "        print(\"Current ptr =\",CurrentNode.Ptr)\n",
    "#     //null to pointers\n",
    "        LastNode = CurrentNode    \n",
    "        print(\"Last Node@\",LastNode)\n",
    "#     //laast Node points to current node\n",
    "        FirstNode = CurrentNode \n",
    "    \n",
    "        print(\"First Node@\",FirstNode) \n",
    "        print(\"last Node@\",LastNode.Prime)\n",
    "#     // First Node also point to this Node\n",
    "\n",
    "    else:\n",
    "        CurrentNode.Prime = i\n",
    "        print(\"Current Node Address=\",CurrentNode)\n",
    "        \n",
    "#             //if not thd first Node cool Lets Simoly add new Nodes \n",
    "        CurrentNode.Ptr = None\n",
    "        print(\"Current ptr===\",CurrentNode.Ptr)\n",
    "#     //keep the end ptr null\n",
    "        LastNode.Ptr = CurrentNode\n",
    "        print(\"LastNode ptr=\",LastNode.Ptr)\n",
    "#     // This is Magic, NOw we Connect last Nodes ptr to Current Node ie CONNECTION\n",
    "        LastNode = CurrentNode\n",
    "        print(\"now the Last Node@\",LastNode)\n",
    "        print()"
   ]
  },
  {
   "cell_type": "markdown",
   "metadata": {},
   "source": [
    "### Printing With Ordinary operations\n"
   ]
  },
  {
   "cell_type": "code",
   "execution_count": 66,
   "metadata": {
    "collapsed": false
   },
   "outputs": [],
   "source": [
    "def PrintList():\n",
    "    global FirstNode\n",
    "    counter=0\n",
    "    TempNode=FirstNode\n",
    "    while TempNode.Ptr != None:\n",
    "        print(TempNode.Prime)\n",
    "        counter+=1\n",
    "        TempNode = TempNode.Ptr\n",
    "        \n",
    "    print(\"total=\",counter)\n",
    "    "
   ]
  },
  {
   "cell_type": "code",
   "execution_count": null,
   "metadata": {
    "collapsed": true
   },
   "outputs": [],
   "source": []
  },
  {
   "cell_type": "code",
   "execution_count": 67,
   "metadata": {
    "collapsed": false
   },
   "outputs": [
    {
     "name": "stdout",
     "output_type": "stream",
     "text": [
      "899\n",
      "647\n",
      "393\n",
      "527\n",
      "911\n",
      "149\n",
      "919\n",
      "409\n",
      "923\n",
      "155\n",
      "669\n",
      "159\n",
      "161\n",
      "675\n",
      "805\n",
      "549\n",
      "295\n",
      "937\n",
      "685\n",
      "687\n",
      "947\n",
      "309\n",
      "695\n",
      "567\n",
      "697\n",
      "571\n",
      "317\n",
      "321\n",
      "577\n",
      "195\n",
      "841\n",
      "849\n",
      "507\n",
      "599\n",
      "217\n",
      "729\n",
      "987\n",
      "473\n",
      "607\n",
      "479\n",
      "863\n",
      "867\n",
      "487\n",
      "107\n",
      "239\n",
      "499\n",
      "371\n",
      "631\n",
      "249\n",
      "total= 49\n"
     ]
    }
   ],
   "source": [
    "PrintList()"
   ]
  },
  {
   "cell_type": "code",
   "execution_count": null,
   "metadata": {
    "collapsed": false
   },
   "outputs": [],
   "source": []
  },
  {
   "cell_type": "code",
   "execution_count": 68,
   "metadata": {
    "collapsed": false
   },
   "outputs": [],
   "source": [
    "def FindNode(N):\n",
    "    global FirstNode\n",
    "    counter=1\n",
    "    flag=1\n",
    "    TempNode=FirstNode\n",
    "    while( TempNode.Ptr):\n",
    "        TempNode = TempNode.Ptr\n",
    "        if(TempNode.Prime == N):\n",
    "            flag=0\n",
    "            return TempNode\n",
    "        counter+=1\n",
    "    if flag:\n",
    "        return None\n"
   ]
  },
  {
   "cell_type": "code",
   "execution_count": 69,
   "metadata": {
    "collapsed": false
   },
   "outputs": [
    {
     "data": {
      "text/plain": [
       "NoneType"
      ]
     },
     "execution_count": 69,
     "metadata": {},
     "output_type": "execute_result"
    }
   ],
   "source": [
    "type(FindNode(119))"
   ]
  },
  {
   "cell_type": "code",
   "execution_count": null,
   "metadata": {
    "collapsed": false
   },
   "outputs": [],
   "source": []
  },
  {
   "cell_type": "markdown",
   "metadata": {},
   "source": [
    "# Addition a NOde @ End & front\n",
    "\n"
   ]
  },
  {
   "cell_type": "code",
   "execution_count": 70,
   "metadata": {
    "collapsed": false
   },
   "outputs": [],
   "source": [
    "def AddNode(Num,op):\n",
    "    global FirstNode\n",
    "    global LastNode\n",
    "    if op=='F':\n",
    "        CurrentNode=CreateNode(Num)\n",
    "        print (\"NOde Created @==\",CurrentNode)\n",
    "        CurrentNode.Prime = Num\n",
    "        print(\"Current Node Address=\",CurrentNode)\n",
    "\n",
    "        #             //if not thd first Node cool Lets Simoly add new Nodes \n",
    "        CurrentNode.Ptr = None\n",
    "        print(\"Current ptr===\",CurrentNode.Ptr)\n",
    "        #     //keep the end ptr null\n",
    "        LastNode.Ptr = CurrentNode\n",
    "        print(\"LastNode ptr=\",LastNode.Ptr)\n",
    "        #     // This is Magic, NOw we Connect last Nodes ptr to Current Node ie CONNECTION\n",
    "        LastNode = CurrentNode\n",
    "        print(\"now the Last Node@\",LastNode)\n",
    "        print()\n",
    "    elif (op=='E'):\n",
    "        global FirstNode\n",
    "        CurrentNode=CreateNode(Num)\n",
    "        CurrentNode.Ptr=None\n",
    "        print (\"NOde Created @==\",CurrentNode)\n",
    "        CurrentNode.Prime = a\n",
    "        print(\"First Node Address=\",FirstNode)\n",
    "        CurrentNode.Ptr=FirstNode\n",
    "        print(\"now Current Node ptr=\",CurrentNode.Ptr)\n",
    "        print(\"Firt node =\",FirstNode)\n",
    "        FirstNode=CurrentNode\n",
    "        print(\"new first Node Address=\",FirstNode)\n",
    "        print(\"that pints to =\",FirstNode.Ptr)\n",
    "    "
   ]
  },
  {
   "cell_type": "code",
   "execution_count": 71,
   "metadata": {
    "collapsed": false
   },
   "outputs": [],
   "source": [
    "def addafter(a,Num):\n",
    "    B=None\n",
    "    B=FindNode(a)\n",
    "    while (B!=None): \n",
    "        CurrentNode=CreateNode(Num)\n",
    "        CurrentNode.Ptr=None\n",
    "        print (\"NOde Created @==\",CurrentNode)\n",
    "        CurrentNode.Prime = Num\n",
    "        print(\"New node to be Inseted After\",B)\n",
    "        print(\"The \",B,\"Node  Ponts to ->\",B.Ptr)\n",
    "        \n",
    "        CurrentNode.Ptr=B.Ptr\n",
    "        print(\"NOw New Node Points to==\",CurrentNode.Ptr,\"Where Old Node USe to point}\")\n",
    "        B.Ptr=CurrentNode\n",
    "        print(B ,\" Node Points to==\",CurrentNode.Ptr,\"Which Is Current Node\")"
   ]
  },
  {
   "cell_type": "code",
   "execution_count": null,
   "metadata": {
    "collapsed": true
   },
   "outputs": [],
   "source": []
  },
  {
   "cell_type": "code",
   "execution_count": null,
   "metadata": {
    "collapsed": false
   },
   "outputs": [],
   "source": []
  },
  {
   "cell_type": "code",
   "execution_count": null,
   "metadata": {
    "collapsed": false
   },
   "outputs": [],
   "source": [
    "\n"
   ]
  },
  {
   "cell_type": "code",
   "execution_count": 72,
   "metadata": {
    "collapsed": false
   },
   "outputs": [
    {
     "name": "stdout",
     "output_type": "stream",
     "text": [
      "899\n",
      "647\n",
      "393\n",
      "527\n",
      "911\n",
      "149\n",
      "919\n",
      "409\n",
      "923\n",
      "155\n",
      "669\n",
      "159\n",
      "161\n",
      "675\n",
      "805\n",
      "549\n",
      "295\n",
      "937\n",
      "685\n",
      "687\n",
      "947\n",
      "309\n",
      "695\n",
      "567\n",
      "697\n",
      "571\n",
      "317\n",
      "321\n",
      "577\n",
      "195\n",
      "841\n",
      "849\n",
      "507\n",
      "599\n",
      "217\n",
      "729\n",
      "987\n",
      "473\n",
      "607\n",
      "479\n",
      "863\n",
      "867\n",
      "487\n",
      "107\n",
      "239\n",
      "499\n",
      "371\n",
      "631\n",
      "249\n",
      "total= 49\n"
     ]
    }
   ],
   "source": [
    "PrintList()"
   ]
  },
  {
   "cell_type": "markdown",
   "metadata": {
    "collapsed": false
   },
   "source": [
    "# DEL of Node"
   ]
  },
  {
   "cell_type": "code",
   "execution_count": 73,
   "metadata": {
    "collapsed": false
   },
   "outputs": [
    {
     "ename": "SyntaxError",
     "evalue": "unexpected EOF while parsing (<ipython-input-73-8cd4a81ff6b1>, line 2)",
     "output_type": "error",
     "traceback": [
      "\u001b[0;36m  File \u001b[0;32m\"<ipython-input-73-8cd4a81ff6b1>\"\u001b[0;36m, line \u001b[0;32m2\u001b[0m\n\u001b[0;31m    \u001b[0m\n\u001b[0m    ^\u001b[0m\n\u001b[0;31mSyntaxError\u001b[0m\u001b[0;31m:\u001b[0m unexpected EOF while parsing\n"
     ]
    }
   ],
   "source": [
    "def DeleteNode(Node):\n",
    "    "
   ]
  }
 ],
 "metadata": {
  "anaconda-cloud": {},
  "kernelspec": {
   "display_name": "Python [default]",
   "language": "python",
   "name": "python3"
  },
  "language_info": {
   "codemirror_mode": {
    "name": "ipython",
    "version": 3
   },
   "file_extension": ".py",
   "mimetype": "text/x-python",
   "name": "python",
   "nbconvert_exporter": "python",
   "pygments_lexer": "ipython3",
   "version": "3.5.2"
  }
 },
 "nbformat": 4,
 "nbformat_minor": 2
}
