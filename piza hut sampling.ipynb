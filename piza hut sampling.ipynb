{
 "cells": [
  {
   "cell_type": "code",
   "execution_count": null,
   "metadata": {
    "collapsed": true
   },
   "outputs": [],
   "source": [
    "#poisson distributiion\\\n",
    "# per unit of time / space \n",
    "# ph. calls reccieved by Call Center per Minute follows poisson distribution/\n",
    "# rate of poison spreading per unit cubic cm  of Blood \n",
    "#  pdf e pow(- lambda).lambda pow(k)/ Factorial(k)\n",
    "# k baar per unit hone ki probablity()\n",
    "# "
   ]
  },
  {
   "cell_type": "code",
   "execution_count": null,
   "metadata": {
    "collapsed": true
   },
   "outputs": [],
   "source": [
    "# Q 5.45\n",
    "# accident prone\n",
    "#  unit of tme is per year\n",
    "# average is lambda here ie 2\n",
    "# X is RV i.e no of injries per yer \n",
    "# 1. k=2 l lambda =2\n",
    "# 3.p(x=0)+p(x=1)\n",
    "# 2. 1-p(3rd)\n"
   ]
  },
  {
   "cell_type": "code",
   "execution_count": null,
   "metadata": {
    "collapsed": true
   },
   "outputs": [],
   "source": [
    "# q 5.48 \n",
    "#E coli Outbreaks?\n",
    "# lambda = 2.5 /100000\n",
    "# 1.most 5 case(pnet (upto (pX=0 to 5)))// add all to get net prob\\.\n",
    "# 2. 1- ans 1 \n",
    "# 3. get 95% of 100000 \n"
   ]
  },
  {
   "cell_type": "code",
   "execution_count": null,
   "metadata": {
    "collapsed": true
   },
   "outputs": [],
   "source": [
    "# Q 5.43\n",
    "# Airpot Safty\n",
    "# average per month \n",
    "# lambda =5 \n",
    "# 1.\n",
    "# 2.x=5\n",
    "\n",
    "# 3. 1- (p=0 t0 5 )"
   ]
  },
  {
   "cell_type": "code",
   "execution_count": null,
   "metadata": {
    "collapsed": true
   },
   "outputs": [],
   "source": []
  },
  {
   "cell_type": "code",
   "execution_count": null,
   "metadata": {
    "collapsed": false
   },
   "outputs": [],
   "source": [
    "# # ASssingment !!!!!!!!! classes se hoga\n",
    "# # model a pizza store\n",
    "# # Dhyann se Suno!!!\n",
    "# # ABB!\n",
    "# lambda for poission XXXX\n",
    "# # Store sale is devided into 4 parts of  day .\n",
    "# [ Average interarrival time beteen two cutomer=i *************\n",
    "# # 9-12 --> lambda(morning)= 4  people per minutes (average (imp))---->(i= 15 ] /// avg720 ppl \n",
    "# # 12-4---> Lambda (Afternoon )= 7 p / min-->i=8 sec\n",
    "# # 4-8 ---> Lambda (Evening )= 12 p / min --> i=5\\\n",
    "# # 8-12--->Lambda (Night )= 15 p / min ---> i=4 \n",
    "# # ----------------------------------------------\n",
    "# sigma =1 for all \n",
    "# interarival time follows Guassian ditribution \n",
    "# u =10 for morning (min 6 max 14) +- 4\n",
    "# same fopr all guss afternoon \n",
    "# Simulate pizzza store \n",
    "# Pure dinn me average eak bnde ko kitta wait(average) krna hai////\n",
    "# Serving time will be Follow Gaussian Distribution  \n",
    "\n",
    "# # Assumption \n",
    "# serving Time is Different for every Slot \n",
    "# and its mean for Normal Distribution is same "
   ]
  },
  {
   "cell_type": "code",
   "execution_count": 4,
   "metadata": {
    "collapsed": false
   },
   "outputs": [],
   "source": [
    "import numpy as np \n",
    "import math \n",
    "import matplotlib.pyplot as plt\n",
    "import random as rn"
   ]
  },
  {
   "cell_type": "code",
   "execution_count": 113,
   "metadata": {
    "collapsed": false
   },
   "outputs": [],
   "source": [
    "#  remember to maintain a Q Fifo\n",
    "class CustomerClass:\n",
    "    def __init__(self,EntryTime,ServingTime):\n",
    "        self.EnT=EntryTime\n",
    "        self.ExT=EntryTime+ServingTime\n",
    "        self.WT=(EntryTime+ServingTime)-EntryTime\n",
    "        \n",
    "   "
   ]
  },
  {
   "cell_type": "code",
   "execution_count": 12,
   "metadata": {
    "collapsed": false
   },
   "outputs": [],
   "source": [
    "\n",
    "EntryList=[]\n",
    "CurrentList=[]\n"
   ]
  },
  {
   "cell_type": "code",
   "execution_count": 111,
   "metadata": {
    "collapsed": false
   },
   "outputs": [
    {
     "name": "stdout",
     "output_type": "stream",
     "text": [
      "Start of program.\n",
      "End of program.\n",
      "Wake up!\n"
     ]
    }
   ],
   "source": [
    "import threading, time\n",
    "print('Start of program.')\n",
    "\n",
    "def takeANap():\n",
    "    time.sleep(1)\n",
    "    print('Wake up!')\n",
    "\n",
    "threadObj = threading.Thread(target=takeANap)\n",
    "threadObj.start()\n",
    "print('End of program.')"
   ]
  },
  {
   "cell_type": "code",
   "execution_count": 124,
   "metadata": {
    "collapsed": false
   },
   "outputs": [],
   "source": [
    "\n",
    "\n",
    "def Time(Choice):\n",
    "    SecCounter=0\n",
    "    Minutes=0\n",
    "    Hours=9\n",
    "    Seconds=0\n",
    "    for i in range (1,10):\n",
    "        Seconds+=1\n",
    "        \n",
    "        \n",
    "        \n",
    "        while Seconds==6:\n",
    "            Minutes=Minutes+1\n",
    "            Seconds=0\n",
    "        if Minutes==60:\n",
    "            Hours+=1\n",
    "            Minutes=0\n",
    "            Seconds=0\n",
    "    if Choice =='H':\n",
    "        return(Hours)\n",
    "    elif Choice=='M':\n",
    "        return(Minutes)\n",
    "    elif Choice=='S':\n",
    "        return(Seconds)\n",
    "    elif Choice=='TS':\n",
    "        stmp=[Hours,Minutes,Seconds]\n",
    "        return(\\stmp))       \n",
    "\n"
   ]
  },
  {
   "cell_type": "code",
   "execution_count": 126,
   "metadata": {
    "collapsed": false
   },
   "outputs": [
    {
     "data": {
      "text/plain": [
       "list"
      ]
     },
     "execution_count": 126,
     "metadata": {},
     "output_type": "execute_result"
    }
   ],
   "source": [
    "Time(\"TS\")"
   ]
  },
  {
   "cell_type": "code",
   "execution_count": 8,
   "metadata": {
    "collapsed": true
   },
   "outputs": [],
   "source": [
    "\n",
    "Cust='Customer'\n",
    "CustomerCounter=1\n"
   ]
  },
  {
   "cell_type": "code",
   "execution_count": 87,
   "metadata": {
    "collapsed": true
   },
   "outputs": [
    {
     "ename": "NameError",
     "evalue": "name 'np' is not defined",
     "output_type": "error",
     "traceback": [
      "\u001b[0;31m---------------------------------------------------------------------------\u001b[0m",
      "\u001b[0;31mNameError\u001b[0m                                 Traceback (most recent call last)",
      "\u001b[0;32m<ipython-input-87-d95dac6cf043>\u001b[0m in \u001b[0;36m<module>\u001b[0;34m()\u001b[0m\n\u001b[1;32m     33\u001b[0m         \u001b[0mTimesSlotMean\u001b[0m\u001b[1;33m=\u001b[0m\u001b[1;36m4\u001b[0m\u001b[1;33m\u001b[0m\u001b[0m\n\u001b[1;32m     34\u001b[0m     \u001b[1;31m#############################################generation\u001b[0m\u001b[1;33m\u001b[0m\u001b[1;33m\u001b[0m\u001b[0m\n\u001b[0;32m---> 35\u001b[0;31m     \u001b[0mServingTime\u001b[0m\u001b[1;33m=\u001b[0m\u001b[0mnp\u001b[0m\u001b[1;33m.\u001b[0m\u001b[0mrandom\u001b[0m\u001b[1;33m.\u001b[0m\u001b[0mrandn\u001b[0m\u001b[1;33m(\u001b[0m\u001b[1;33m)\u001b[0m\u001b[1;33m+\u001b[0m\u001b[0mTimeSlotMean\u001b[0m\u001b[1;33m\u001b[0m\u001b[0m\n\u001b[0m\u001b[1;32m     36\u001b[0m     \u001b[0mInterArrivalTime\u001b[0m\u001b[1;33m=\u001b[0m\u001b[0mnp\u001b[0m\u001b[1;33m.\u001b[0m\u001b[0mrandom\u001b[0m\u001b[1;33m.\u001b[0m\u001b[0mrandn\u001b[0m\u001b[1;33m(\u001b[0m\u001b[1;33m)\u001b[0m\u001b[1;33m+\u001b[0m\u001b[0mTimeSlotMean\u001b[0m\u001b[1;31m#aagla customer iit der me aayega\u001b[0m\u001b[1;33m\u001b[0m\u001b[0m\n\u001b[1;32m     37\u001b[0m     \u001b[0mprint\u001b[0m \u001b[1;33m(\u001b[0m\u001b[1;34m\"interArrivalTime={}\"\u001b[0m\u001b[1;33m.\u001b[0m\u001b[0mformat\u001b[0m\u001b[1;33m(\u001b[0m\u001b[0mInterArrivalTime\u001b[0m\u001b[1;33m)\u001b[0m\u001b[1;33m)\u001b[0m\u001b[1;33m\u001b[0m\u001b[0m\n",
      "\u001b[0;31mNameError\u001b[0m: name 'np' is not defined"
     ]
    }
   ],
   "source": [
    "# 24 Hours format\n",
    "\n",
    "SecCounter=0\n",
    "Hours=9;\n",
    "Minutes=0\n",
    "CustomerCounter=1\n",
    "for i in range (1,180):\n",
    "    SecCounter+=1\n",
    "#////////////////TIMER CLASS /////////////////\n",
    "    class TimeClass():\n",
    "        Seconds=SecCounter\n",
    "        def __init__(Self):\n",
    "            Self.H=9\n",
    "            Self.M=0\n",
    "            Self.S=0\n",
    "        if Seconds==60:\n",
    "            Minutes=Minutes+1\n",
    "            Seconds=0\n",
    "        if Minutes==60:\n",
    "            Minutes=0\n",
    "            Hours+=1\n",
    "        def TimeStamp(self):\n",
    "            stmp=int(str(Time.H)+str(Time.M)+str(Time.S))\n",
    "            return(stmp)\n",
    "    Time=TimeClass()\n",
    "    ################################## deviding time slot mean \n",
    "    if 9 <= Hours <= 13:#9-12\n",
    "        TimeSlotMean=15\n",
    "    elif 13 <= Hours <= 17:#12-4\n",
    "        TimeSlotMean=8\n",
    "    elif 17 <= Hours <= 21:#4-8\n",
    "        TimeSlotMean=5\n",
    "    elif 21 <= Hours <= 25:#8-12\n",
    "        TimesSlotMean=4\n",
    "    #############################################generation\n",
    "    ServingTime=np.random.randn()+TimeSlotMean\n",
    "    InterArrivalTime=np.random.randn()+TimeSlotMean#aagla customer iit der me aayega\n",
    "    print (\"interArrivalTime={}\".format(InterArrivalTime))\n",
    "    print (\"Serving Time is ={}\".format(ServingTime))\n",
    "    print(\"type of ServingTime is: {}\".format(type(ServingTime)))\n",
    "    print(\"type of Time.TimeStamp  is: {} ,  val={}\".format(type(Time.TimeStamp()),Time.TimeStamp()))\n",
    "    \n",
    "    FirstCustomer=(Hours,Minutes,(Time.S-InterArrivalTime))# its first customer entry time  \n",
    "    CustomerId=Cust+str(CustomerCounter)+str(Time.TimeStamp()) # generate id for customer with time sat5amp\n",
    "    type(Time.TimeStamp())\n",
    "    CustomerId=CustomerClass(Time.TimeStamp(),ServingTime)\n",
    "    #############################################Appending\n",
    "    EntryList.append(FirstCustomer)\n",
    "    if Time.S==int(InterArrivalTime):\n",
    "        CustomerCounter+=1\n",
    "        print(CustomerId.EnT)\n",
    "        CustomerId=CustomerClass(Time.TimeStamp(),ServingTime)\n",
    "        EntryList.append(CustomerId.EnT)\n",
    "        \n",
    "        "
   ]
  },
  {
   "cell_type": "code",
   "execution_count": 93,
   "metadata": {
    "collapsed": true
   },
   "outputs": [],
   "source": [
    "import time\n"
   ]
  },
  {
   "cell_type": "code",
   "execution_count": 96,
   "metadata": {
    "collapsed": false
   },
   "outputs": [],
   "source": []
  },
  {
   "cell_type": "code",
   "execution_count": null,
   "metadata": {
    "collapsed": true
   },
   "outputs": [],
   "source": []
  }
 ],
 "metadata": {
  "anaconda-cloud": {},
  "kernelspec": {
   "display_name": "Python [default]",
   "language": "python",
   "name": "python3"
  },
  "language_info": {
   "codemirror_mode": {
    "name": "ipython",
    "version": 3
   },
   "file_extension": ".py",
   "mimetype": "text/x-python",
   "name": "python",
   "nbconvert_exporter": "python",
   "pygments_lexer": "ipython3",
   "version": "3.5.2"
  }
 },
 "nbformat": 4,
 "nbformat_minor": 1
}
