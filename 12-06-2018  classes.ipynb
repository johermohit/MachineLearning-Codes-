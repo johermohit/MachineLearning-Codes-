{
 "cells": [
  {
   "cell_type": "code",
   "execution_count": 1,
   "metadata": {
    "collapsed": true
   },
   "outputs": [],
   "source": [
    "# make 3 classes \n",
    "### reley, \n",
    "\n",
    "\n"
   ]
  },
  {
   "cell_type": "code",
   "execution_count": 18,
   "metadata": {
    "collapsed": false
   },
   "outputs": [],
   "source": [
    "class project:\n",
    "    def __init__(self,T,drtn,CN, prft ,cst,Empl):#local variable to hold the variable\n",
    "        # attributes are created now\n",
    "        self.Type=T\n",
    "        self.Duration=drtn\n",
    "        self.ClientName =CN\n",
    "        self.profit =prft \n",
    "        self.cost = cst \n",
    "        self.Employee=Empl\n",
    "\n",
    "    def ChangeFileData(self):# class ka member method \n",
    "        self.ClientName=\"Axis India\"\n",
    "        \n",
    "# now Make object \n",
    "file1= project(\"cv\",12,\"CelebalTECH.\",20, 15000,5)\n",
    "        \n",
    "    "
   ]
  },
  {
   "cell_type": "code",
   "execution_count": 19,
   "metadata": {
    "collapsed": false
   },
   "outputs": [
    {
     "name": "stdout",
     "output_type": "stream",
     "text": [
      "cv\n"
     ]
    }
   ],
   "source": [
    "print (file1.Type)"
   ]
  },
  {
   "cell_type": "code",
   "execution_count": 20,
   "metadata": {
    "collapsed": true
   },
   "outputs": [],
   "source": [
    "#file1 phle se object tha islie sirf whi call kr  sakta hai"
   ]
  },
  {
   "cell_type": "code",
   "execution_count": 22,
   "metadata": {
    "collapsed": false
   },
   "outputs": [],
   "source": [
    "file1.ChangeFileData()"
   ]
  },
  {
   "cell_type": "code",
   "execution_count": 24,
   "metadata": {
    "collapsed": false
   },
   "outputs": [
    {
     "name": "stdout",
     "output_type": "stream",
     "text": [
      "Axis India\n"
     ]
    }
   ],
   "source": [
    "print(file1.ClientName)"
   ]
  },
  {
   "cell_type": "code",
   "execution_count": 26,
   "metadata": {
    "collapsed": true
   },
   "outputs": [],
   "source": []
  },
  {
   "cell_type": "code",
   "execution_count": null,
   "metadata": {
    "collapsed": true
   },
   "outputs": [],
   "source": [
    "\n",
    "            "
   ]
  }
 ],
 "metadata": {
  "anaconda-cloud": {},
  "kernelspec": {
   "display_name": "Python [default]",
   "language": "python",
   "name": "python3"
  },
  "language_info": {
   "codemirror_mode": {
    "name": "ipython",
    "version": 3
   },
   "file_extension": ".py",
   "mimetype": "text/x-python",
   "name": "python",
   "nbconvert_exporter": "python",
   "pygments_lexer": "ipython3",
   "version": "3.5.2"
  }
 },
 "nbformat": 4,
 "nbformat_minor": 1
}
