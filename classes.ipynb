{
 "cells": [
  {
   "cell_type": "code",
   "execution_count": 8,
   "metadata": {
    "collapsed": true
   },
   "outputs": [],
   "source": [
    "#(Q)make 3 classes rayligh,normal,binomial\n",
    "# ask what kind of number user wants \n",
    "#if 1 rayligh \n",
    "#if 2 normal \n",
    "# if 3 binomials  \n",
    "\n",
    "# now what values you want? enter distribution natural parameters "
   ]
  },
  {
   "cell_type": "code",
   "execution_count": 9,
   "metadata": {
    "collapsed": true
   },
   "outputs": [],
   "source": [
    "import math\n",
    "import random \n",
    "import numpy as np \n",
    "import matplotlib.pyplot as plt"
   ]
  },
  {
   "cell_type": "code",
   "execution_count": 3,
   "metadata": {
    "collapsed": false
   },
   "outputs": [],
   "source": [
    "# KRO KRO "
   ]
  },
  {
   "cell_type": "code",
   "execution_count": null,
   "metadata": {
    "collapsed": false
   },
   "outputs": [],
   "source": []
  },
  {
   "cell_type": "code",
   "execution_count": 4,
   "metadata": {
    "collapsed": false
   },
   "outputs": [],
   "source": [
    "class rayleigh:\n",
    "    \n",
    "    def __init__(self,Mode):\n",
    "        self.Mode=Mode \n",
    "    def calc(Mode):\n",
    "        MiniMumValueOfRV = 2\n",
    "        TotalNumberofValuesofRV = 100000\n",
    "        RVValues = []\n",
    "        l = ((Mode)**2)\n",
    "        m = math.exp(-(((MiniMumValueOfRV)**2)/(2*l)))\n",
    "        \n",
    "        for i in range(0,TotalNumberofValuesofRV):\n",
    "            y = (random.randint(0,10000))/10000\n",
    "            n = math.log((1/(m - y))**2)\n",
    "            K = math.sqrt((l * n))\n",
    "            RVValues.append(K)\n",
    "            \n",
    "        MaximumValueRV = max(RVValues)\n",
    "        MaximumValueRV = math.ceil(MaximumValueRV)\n",
    "        TotalBins = 30\n",
    "        BinWidth = (MaximumValueRV - MiniMumValueOfRV)/TotalBins\n",
    "        Frequency = [0] * np.linspace(MiniMumValueOfRV,MaximumValueRV,TotalBins)\n",
    "        \n",
    "        for i in range(0,TotalNumberofValuesofRV):\n",
    "            Frequency[math.floor((RVValues[i]-MiniMumValueOfRV)/BinWidth)] += 1\n",
    "        XAxisValues = [1] * np.linspace(MiniMumValueOfRV,MaximumValueRV,TotalBins)\n",
    "        plt.bar(XAxisValues,Frequency/TotalNumberofValuesofRV,BinWidth)\n",
    "        plt.show()\n",
    "\n"
   ]
  },
  {
   "cell_type": "code",
   "execution_count": 5,
   "metadata": {
    "collapsed": false
   },
   "outputs": [],
   "source": [
    "class normal:\n",
    "    def __init__ (self,mu,sigma):\n",
    "        self.mu=mu\n",
    "        self.sigma=sigma\n",
    "    def math(mu,sigma):\n",
    "        size = 1000 \n",
    "        maxima = 4\n",
    "        minsigma = mu - maxima \n",
    "        maxsigma = mu + maxima \n",
    "        divSize = 64/size \n",
    "\n",
    "        arry = [0]*size \n",
    "        testarr = [0]*size\n",
    "        for y in range(0,1000):\n",
    "            x = np.random.normal(mu ,sigma) \n",
    "            k =(len(arry)-1) - math.floor( (maxsigma-x)/divSize ) \n",
    "            k = int(k) \n",
    "            arry[k] = arry[k]+1\n",
    "            testarr[k] = x   \n",
    "\n",
    "        plt.bar(testarr,arry,.5)\n",
    "        plt.show()"
   ]
  },
  {
   "cell_type": "code",
   "execution_count": 13,
   "metadata": {
    "collapsed": false
   },
   "outputs": [
    {
     "name": "stdout",
     "output_type": "stream",
     "text": [
      "what distribution you want to see?\n",
      "1.railagh 2. binmial 3.normal \n",
      "None2\n",
      "you have choosen Binomial \n",
      "enter the value of N\n",
      "None10\n",
      "enter the value of p0.5\n"
     ]
    },
    {
     "data": {
      "image/png": "[encoded data removed]",
      "text/plain": [
       "<matplotlib.figure.Figure at 0x23138bf15f8>"
      ]
     },
     "metadata": {},
     "output_type": "display_data"
    }
   ],
   "source": [
    "print(\"what distribution you want to see?\")\n",
    "a=int (input(print(\"1.railagh 2. binmial 3.normal \")))\n",
    "if a==1:\n",
    "    print(\"you choose realigh \")\n",
    "    x=int(input(\"enter value of mode\"))\n",
    "    ai=rayleigh.calc(x)\n",
    "    \n",
    "elif a==2:\n",
    "    print(\"you have choosen Binomial \")\n",
    "    x=int(input(print(\"enter the value of N\")))\n",
    "    y=float((input(\"enter the value of p\")))\n",
    "    a2=binomial.plot(x,y)\n",
    "elif a==3:\n",
    "    print(\"you have choosen Normal\")\n",
    "    g=int(input(print(\"enter the value of mu\")))\n",
    "    h=int(input(print(\"enter value of sigma\")))\n",
    "    a3=normal.math(g,h)\n",
    "    "
   ]
  },
  {
   "cell_type": "code",
   "execution_count": null,
   "metadata": {
    "collapsed": false
   },
   "outputs": [],
   "source": [
    "print(a)\n",
    "if a==1:\n",
    "    print(\"relaigh\")\n",
    "elif a==2:\n",
    "    print(\"b\")\n",
    "else\n",
    "    print(\"c\")\n",
    "    "
   ]
  },
  {
   "cell_type": "code",
   "execution_count": null,
   "metadata": {
    "collapsed": true
   },
   "outputs": [],
   "source": []
  }
 ],
 "metadata": {
  "anaconda-cloud": {},
  "kernelspec": {
   "display_name": "Python [default]",
   "language": "python",
   "name": "python3"
  },
  "language_info": {
   "codemirror_mode": {
    "name": "ipython",
    "version": 3
   },
   "file_extension": ".py",
   "mimetype": "text/x-python",
   "name": "python",
   "nbconvert_exporter": "python",
   "pygments_lexer": "ipython3",
   "version": "3.5.2"
  }
 },
 "nbformat": 4,
 "nbformat_minor": 1
}
